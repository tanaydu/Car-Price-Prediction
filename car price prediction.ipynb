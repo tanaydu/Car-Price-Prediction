{
 "cells": [
  {
   "cell_type": "markdown",
   "id": "010160fd",
   "metadata": {},
   "source": [
    "# Car Price Prediction."
   ]
  },
  {
   "cell_type": "markdown",
   "id": "15f5da6a",
   "metadata": {},
   "source": [
    "Source : Kaggle"
   ]
  },
  {
   "cell_type": "markdown",
   "id": "a37ac08d",
   "metadata": {},
   "source": [
    "### PROBLEM STATEMENT :\n",
    "\n",
    "You are required to model the price of cars with the available independent variables. It will be used by the management to understand how exactly the prices vary with the independent variables. They can accordingly manipulate the design of the cars, the business strategy etc. to meet certain price levels. Further, the model will be a good way for management to understand the pricing dynamics of a new market."
   ]
  },
  {
   "cell_type": "markdown",
   "id": "e49ed7ab",
   "metadata": {},
   "source": [
    "### Importing Library's"
   ]
  },
  {
   "cell_type": "code",
   "execution_count": 1,
   "id": "eaca1dab",
   "metadata": {},
   "outputs": [],
   "source": [
    "import numpy as np\n",
    "import pandas as pd\n",
    "from pandas import DataFrame , Series\n",
    "import matplotlib.pyplot as plt\n",
    "%matplotlib inline\n",
    "import seaborn as sns\n",
    "import warnings\n",
    "warnings.filterwarnings(\"ignore\")\n",
    "from sklearn.preprocessing import StandardScaler , LabelEncoder\n",
    "from sklearn.preprocessing import PowerTransformer\n",
    "from sklearn import model_selection\n",
    "from sklearn.linear_model import LinearRegression"
   ]
  },
  {
   "cell_type": "code",
   "execution_count": 2,
   "id": "16dd8f16",
   "metadata": {},
   "outputs": [],
   "source": [
    "from statsmodels.stats.outliers_influence import variance_inflation_factor\n",
    "from sklearn.model_selection import train_test_split\n",
    "from sklearn.model_selection import KFold\n",
    "from sklearn.linear_model import LinearRegression\n",
    "import statsmodels.api as sm\n",
    "from sklearn.ensemble import RandomForestRegressor\n",
    "from sklearn.tree import DecisionTreeRegressor\n",
    "from sklearn.ensemble import GradientBoostingRegressor\n",
    "from sklearn.metrics import mean_squared_error, mean_absolute_percentage_error ,mean_absolute_error\n",
    "from sklearn.model_selection import GridSearchCV"
   ]
  },
  {
   "cell_type": "markdown",
   "id": "22411ac0",
   "metadata": {},
   "source": [
    "### Importing the datasets"
   ]
  },
  {
   "cell_type": "code",
   "execution_count": 3,
   "id": "e23b3ff9",
   "metadata": {},
   "outputs": [],
   "source": [
    "train = pd.read_csv(\"Train_cars.csv\")\n",
    "test = pd.read_csv(\"Test_cars.csv\")"
   ]
  },
  {
   "cell_type": "code",
   "execution_count": 4,
   "id": "ad1a5c63",
   "metadata": {},
   "outputs": [
    {
     "data": {
      "text/html": [
       "<div>\n",
       "<style scoped>\n",
       "    .dataframe tbody tr th:only-of-type {\n",
       "        vertical-align: middle;\n",
       "    }\n",
       "\n",
       "    .dataframe tbody tr th {\n",
       "        vertical-align: top;\n",
       "    }\n",
       "\n",
       "    .dataframe thead th {\n",
       "        text-align: right;\n",
       "    }\n",
       "</style>\n",
       "<table border=\"1\" class=\"dataframe\">\n",
       "  <thead>\n",
       "    <tr style=\"text-align: right;\">\n",
       "      <th></th>\n",
       "      <th>Name</th>\n",
       "      <th>Location</th>\n",
       "      <th>Year</th>\n",
       "      <th>Kilometers_Driven</th>\n",
       "      <th>Fuel_Type</th>\n",
       "      <th>Transmission</th>\n",
       "      <th>Owner_Type</th>\n",
       "      <th>Mileage</th>\n",
       "      <th>Engine</th>\n",
       "      <th>Power</th>\n",
       "      <th>Seats</th>\n",
       "      <th>New_Price</th>\n",
       "      <th>Price</th>\n",
       "    </tr>\n",
       "  </thead>\n",
       "  <tbody>\n",
       "    <tr>\n",
       "      <th>0</th>\n",
       "      <td>Maruti 800 Std BSIII</td>\n",
       "      <td>Bangalore</td>\n",
       "      <td>2012</td>\n",
       "      <td>33715</td>\n",
       "      <td>Diesel</td>\n",
       "      <td>Manual</td>\n",
       "      <td>First</td>\n",
       "      <td>16.46 kmpl</td>\n",
       "      <td>1248 CC</td>\n",
       "      <td>100 bhp</td>\n",
       "      <td>5.0</td>\n",
       "      <td>43.65 Lakh</td>\n",
       "      <td>25.53</td>\n",
       "    </tr>\n",
       "    <tr>\n",
       "      <th>1</th>\n",
       "      <td>Honda City 1.5 V AT</td>\n",
       "      <td>Delhi</td>\n",
       "      <td>2013</td>\n",
       "      <td>73977</td>\n",
       "      <td>Diesel</td>\n",
       "      <td>Manual</td>\n",
       "      <td>First</td>\n",
       "      <td>18.6 kmpl</td>\n",
       "      <td>2993 CC</td>\n",
       "      <td>61 bhp</td>\n",
       "      <td>4.0</td>\n",
       "      <td>NaN</td>\n",
       "      <td>4.58</td>\n",
       "    </tr>\n",
       "    <tr>\n",
       "      <th>2</th>\n",
       "      <td>Honda CR-V RVi MT</td>\n",
       "      <td>Delhi</td>\n",
       "      <td>2007</td>\n",
       "      <td>16460</td>\n",
       "      <td>CNG</td>\n",
       "      <td>Manual</td>\n",
       "      <td>Third</td>\n",
       "      <td>15.3 kmpl</td>\n",
       "      <td>1599 CC</td>\n",
       "      <td>140 bhp</td>\n",
       "      <td>5.0</td>\n",
       "      <td>NaN</td>\n",
       "      <td>2.37</td>\n",
       "    </tr>\n",
       "    <tr>\n",
       "      <th>3</th>\n",
       "      <td>Skoda Yeti Ambition 4X2</td>\n",
       "      <td>Kolkata</td>\n",
       "      <td>2009</td>\n",
       "      <td>35048</td>\n",
       "      <td>Petrol</td>\n",
       "      <td>Manual</td>\n",
       "      <td>First</td>\n",
       "      <td>25.47 kmpl</td>\n",
       "      <td>1196 CC</td>\n",
       "      <td>86.8 bhp</td>\n",
       "      <td>5.0</td>\n",
       "      <td>NaN</td>\n",
       "      <td>1.20</td>\n",
       "    </tr>\n",
       "    <tr>\n",
       "      <th>4</th>\n",
       "      <td>Hyundai i10 Magna LPG</td>\n",
       "      <td>Coimbatore</td>\n",
       "      <td>2013</td>\n",
       "      <td>41656</td>\n",
       "      <td>Petrol</td>\n",
       "      <td>Automatic</td>\n",
       "      <td>First</td>\n",
       "      <td>19.12 kmpl</td>\n",
       "      <td>1999 CC</td>\n",
       "      <td>115 bhp</td>\n",
       "      <td>7.0</td>\n",
       "      <td>13.26 Lakh</td>\n",
       "      <td>33.04</td>\n",
       "    </tr>\n",
       "  </tbody>\n",
       "</table>\n",
       "</div>"
      ],
      "text/plain": [
       "                      Name    Location  Year  Kilometers_Driven Fuel_Type  \\\n",
       "0     Maruti 800 Std BSIII   Bangalore  2012              33715    Diesel   \n",
       "1      Honda City 1.5 V AT       Delhi  2013              73977    Diesel   \n",
       "2        Honda CR-V RVi MT       Delhi  2007              16460       CNG   \n",
       "3  Skoda Yeti Ambition 4X2     Kolkata  2009              35048    Petrol   \n",
       "4    Hyundai i10 Magna LPG  Coimbatore  2013              41656    Petrol   \n",
       "\n",
       "  Transmission Owner_Type     Mileage   Engine     Power  Seats   New_Price  \\\n",
       "0       Manual      First  16.46 kmpl  1248 CC   100 bhp    5.0  43.65 Lakh   \n",
       "1       Manual      First   18.6 kmpl  2993 CC    61 bhp    4.0         NaN   \n",
       "2       Manual      Third   15.3 kmpl  1599 CC   140 bhp    5.0         NaN   \n",
       "3       Manual      First  25.47 kmpl  1196 CC  86.8 bhp    5.0         NaN   \n",
       "4    Automatic      First  19.12 kmpl  1999 CC   115 bhp    7.0  13.26 Lakh   \n",
       "\n",
       "   Price  \n",
       "0  25.53  \n",
       "1   4.58  \n",
       "2   2.37  \n",
       "3   1.20  \n",
       "4  33.04  "
      ]
     },
     "execution_count": 4,
     "metadata": {},
     "output_type": "execute_result"
    }
   ],
   "source": [
    "train.head(5)"
   ]
  },
  {
   "cell_type": "code",
   "execution_count": 5,
   "id": "16e9b6b6",
   "metadata": {},
   "outputs": [
    {
     "data": {
      "text/html": [
       "<div>\n",
       "<style scoped>\n",
       "    .dataframe tbody tr th:only-of-type {\n",
       "        vertical-align: middle;\n",
       "    }\n",
       "\n",
       "    .dataframe tbody tr th {\n",
       "        vertical-align: top;\n",
       "    }\n",
       "\n",
       "    .dataframe thead th {\n",
       "        text-align: right;\n",
       "    }\n",
       "</style>\n",
       "<table border=\"1\" class=\"dataframe\">\n",
       "  <thead>\n",
       "    <tr style=\"text-align: right;\">\n",
       "      <th></th>\n",
       "      <th>Name</th>\n",
       "      <th>Location</th>\n",
       "      <th>Year</th>\n",
       "      <th>Kilometers_Driven</th>\n",
       "      <th>Fuel_Type</th>\n",
       "      <th>Transmission</th>\n",
       "      <th>Owner_Type</th>\n",
       "      <th>Mileage</th>\n",
       "      <th>Engine</th>\n",
       "      <th>Power</th>\n",
       "      <th>Seats</th>\n",
       "      <th>New_Price</th>\n",
       "    </tr>\n",
       "  </thead>\n",
       "  <tbody>\n",
       "    <tr>\n",
       "      <th>0</th>\n",
       "      <td>Ford Figo Diesel Titanium</td>\n",
       "      <td>Delhi</td>\n",
       "      <td>2010</td>\n",
       "      <td>48928</td>\n",
       "      <td>Diesel</td>\n",
       "      <td>Automatic</td>\n",
       "      <td>First</td>\n",
       "      <td>17.8 kmpl</td>\n",
       "      <td>1248 CC</td>\n",
       "      <td>258 bhp</td>\n",
       "      <td>7.0</td>\n",
       "      <td>NaN</td>\n",
       "    </tr>\n",
       "    <tr>\n",
       "      <th>1</th>\n",
       "      <td>Maruti SX4 VDI</td>\n",
       "      <td>Jaipur</td>\n",
       "      <td>2011</td>\n",
       "      <td>47428</td>\n",
       "      <td>Diesel</td>\n",
       "      <td>Automatic</td>\n",
       "      <td>First</td>\n",
       "      <td>23.9 kmpl</td>\n",
       "      <td>2498 CC</td>\n",
       "      <td>183 bhp</td>\n",
       "      <td>5.0</td>\n",
       "      <td>4.33 Lakh</td>\n",
       "    </tr>\n",
       "    <tr>\n",
       "      <th>2</th>\n",
       "      <td>Hyundai Creta 1.6 SX Option</td>\n",
       "      <td>Bangalore</td>\n",
       "      <td>2014</td>\n",
       "      <td>28984</td>\n",
       "      <td>Petrol</td>\n",
       "      <td>Automatic</td>\n",
       "      <td>First</td>\n",
       "      <td>19.59 kmpl</td>\n",
       "      <td>2494 CC</td>\n",
       "      <td>203 bhp</td>\n",
       "      <td>5.0</td>\n",
       "      <td>71.15 Lakh</td>\n",
       "    </tr>\n",
       "    <tr>\n",
       "      <th>3</th>\n",
       "      <td>Jeep Compass 2.0 Limited 4X4</td>\n",
       "      <td>Kochi</td>\n",
       "      <td>2017</td>\n",
       "      <td>46735</td>\n",
       "      <td>Petrol</td>\n",
       "      <td>Manual</td>\n",
       "      <td>First</td>\n",
       "      <td>23.9 kmpl</td>\n",
       "      <td>1498 CC</td>\n",
       "      <td>215 bhp</td>\n",
       "      <td>5.0</td>\n",
       "      <td>NaN</td>\n",
       "    </tr>\n",
       "    <tr>\n",
       "      <th>4</th>\n",
       "      <td>Maruti Swift Dzire VDI</td>\n",
       "      <td>Kochi</td>\n",
       "      <td>2015</td>\n",
       "      <td>19975</td>\n",
       "      <td>Petrol</td>\n",
       "      <td>Automatic</td>\n",
       "      <td>First</td>\n",
       "      <td>26.6 km/kg</td>\n",
       "      <td>2993 CC</td>\n",
       "      <td>147.8 bhp</td>\n",
       "      <td>7.0</td>\n",
       "      <td>NaN</td>\n",
       "    </tr>\n",
       "  </tbody>\n",
       "</table>\n",
       "</div>"
      ],
      "text/plain": [
       "                           Name   Location  Year  Kilometers_Driven Fuel_Type  \\\n",
       "0     Ford Figo Diesel Titanium      Delhi  2010              48928    Diesel   \n",
       "1                Maruti SX4 VDI     Jaipur  2011              47428    Diesel   \n",
       "2   Hyundai Creta 1.6 SX Option  Bangalore  2014              28984    Petrol   \n",
       "3  Jeep Compass 2.0 Limited 4X4      Kochi  2017              46735    Petrol   \n",
       "4        Maruti Swift Dzire VDI      Kochi  2015              19975    Petrol   \n",
       "\n",
       "  Transmission Owner_Type     Mileage   Engine      Power  Seats   New_Price  \n",
       "0    Automatic      First   17.8 kmpl  1248 CC    258 bhp    7.0         NaN  \n",
       "1    Automatic      First   23.9 kmpl  2498 CC    183 bhp    5.0   4.33 Lakh  \n",
       "2    Automatic      First  19.59 kmpl  2494 CC    203 bhp    5.0  71.15 Lakh  \n",
       "3       Manual      First   23.9 kmpl  1498 CC    215 bhp    5.0         NaN  \n",
       "4    Automatic      First  26.6 km/kg  2993 CC  147.8 bhp    7.0         NaN  "
      ]
     },
     "execution_count": 5,
     "metadata": {},
     "output_type": "execute_result"
    }
   ],
   "source": [
    "test.head(5)"
   ]
  },
  {
   "cell_type": "code",
   "execution_count": 6,
   "id": "783b98be",
   "metadata": {},
   "outputs": [
    {
     "data": {
      "text/plain": [
       "(Name                     0\n",
       " Location                 0\n",
       " Year                     0\n",
       " Kilometers_Driven        0\n",
       " Fuel_Type                0\n",
       " Transmission             0\n",
       " Owner_Type               0\n",
       " Mileage                 92\n",
       " Engine                  37\n",
       " Power                   85\n",
       " Seats                   92\n",
       " New_Price            18619\n",
       " Price                    0\n",
       " dtype: int64,\n",
       " Name                     0\n",
       " Location                 0\n",
       " Year                     0\n",
       " Kilometers_Driven        0\n",
       " Fuel_Type                0\n",
       " Transmission             0\n",
       " Owner_Type               0\n",
       " Mileage                249\n",
       " Engine                  69\n",
       " Power                  232\n",
       " Seats                  246\n",
       " New_Price            43315\n",
       " dtype: int64)"
      ]
     },
     "execution_count": 6,
     "metadata": {},
     "output_type": "execute_result"
    }
   ],
   "source": [
    "train.isna().sum() , test.isna().sum()"
   ]
  },
  {
   "cell_type": "markdown",
   "id": "fe960d2b",
   "metadata": {},
   "source": [
    "### Since Null value are in same columns in both dataset.. let's concat both datasets. "
   ]
  },
  {
   "cell_type": "code",
   "execution_count": 7,
   "id": "27900936",
   "metadata": {},
   "outputs": [],
   "source": [
    "combi = pd.concat([train, test], ignore_index=True)"
   ]
  },
  {
   "cell_type": "code",
   "execution_count": 8,
   "id": "8f41fb3e",
   "metadata": {},
   "outputs": [
    {
     "data": {
      "text/html": [
       "<div>\n",
       "<style scoped>\n",
       "    .dataframe tbody tr th:only-of-type {\n",
       "        vertical-align: middle;\n",
       "    }\n",
       "\n",
       "    .dataframe tbody tr th {\n",
       "        vertical-align: top;\n",
       "    }\n",
       "\n",
       "    .dataframe thead th {\n",
       "        text-align: right;\n",
       "    }\n",
       "</style>\n",
       "<table border=\"1\" class=\"dataframe\">\n",
       "  <thead>\n",
       "    <tr style=\"text-align: right;\">\n",
       "      <th></th>\n",
       "      <th>Name</th>\n",
       "      <th>Location</th>\n",
       "      <th>Year</th>\n",
       "      <th>Kilometers_Driven</th>\n",
       "      <th>Fuel_Type</th>\n",
       "      <th>Transmission</th>\n",
       "      <th>Owner_Type</th>\n",
       "      <th>Mileage</th>\n",
       "      <th>Engine</th>\n",
       "      <th>Power</th>\n",
       "      <th>Seats</th>\n",
       "      <th>New_Price</th>\n",
       "      <th>Price</th>\n",
       "    </tr>\n",
       "  </thead>\n",
       "  <tbody>\n",
       "    <tr>\n",
       "      <th>0</th>\n",
       "      <td>Maruti 800 Std BSIII</td>\n",
       "      <td>Bangalore</td>\n",
       "      <td>2012</td>\n",
       "      <td>33715</td>\n",
       "      <td>Diesel</td>\n",
       "      <td>Manual</td>\n",
       "      <td>First</td>\n",
       "      <td>16.46 kmpl</td>\n",
       "      <td>1248 CC</td>\n",
       "      <td>100 bhp</td>\n",
       "      <td>5.0</td>\n",
       "      <td>43.65 Lakh</td>\n",
       "      <td>25.53</td>\n",
       "    </tr>\n",
       "    <tr>\n",
       "      <th>1</th>\n",
       "      <td>Honda City 1.5 V AT</td>\n",
       "      <td>Delhi</td>\n",
       "      <td>2013</td>\n",
       "      <td>73977</td>\n",
       "      <td>Diesel</td>\n",
       "      <td>Manual</td>\n",
       "      <td>First</td>\n",
       "      <td>18.6 kmpl</td>\n",
       "      <td>2993 CC</td>\n",
       "      <td>61 bhp</td>\n",
       "      <td>4.0</td>\n",
       "      <td>NaN</td>\n",
       "      <td>4.58</td>\n",
       "    </tr>\n",
       "    <tr>\n",
       "      <th>2</th>\n",
       "      <td>Honda CR-V RVi MT</td>\n",
       "      <td>Delhi</td>\n",
       "      <td>2007</td>\n",
       "      <td>16460</td>\n",
       "      <td>CNG</td>\n",
       "      <td>Manual</td>\n",
       "      <td>Third</td>\n",
       "      <td>15.3 kmpl</td>\n",
       "      <td>1599 CC</td>\n",
       "      <td>140 bhp</td>\n",
       "      <td>5.0</td>\n",
       "      <td>NaN</td>\n",
       "      <td>2.37</td>\n",
       "    </tr>\n",
       "    <tr>\n",
       "      <th>3</th>\n",
       "      <td>Skoda Yeti Ambition 4X2</td>\n",
       "      <td>Kolkata</td>\n",
       "      <td>2009</td>\n",
       "      <td>35048</td>\n",
       "      <td>Petrol</td>\n",
       "      <td>Manual</td>\n",
       "      <td>First</td>\n",
       "      <td>25.47 kmpl</td>\n",
       "      <td>1196 CC</td>\n",
       "      <td>86.8 bhp</td>\n",
       "      <td>5.0</td>\n",
       "      <td>NaN</td>\n",
       "      <td>1.20</td>\n",
       "    </tr>\n",
       "    <tr>\n",
       "      <th>4</th>\n",
       "      <td>Hyundai i10 Magna LPG</td>\n",
       "      <td>Coimbatore</td>\n",
       "      <td>2013</td>\n",
       "      <td>41656</td>\n",
       "      <td>Petrol</td>\n",
       "      <td>Automatic</td>\n",
       "      <td>First</td>\n",
       "      <td>19.12 kmpl</td>\n",
       "      <td>1999 CC</td>\n",
       "      <td>115 bhp</td>\n",
       "      <td>7.0</td>\n",
       "      <td>13.26 Lakh</td>\n",
       "      <td>33.04</td>\n",
       "    </tr>\n",
       "  </tbody>\n",
       "</table>\n",
       "</div>"
      ],
      "text/plain": [
       "                      Name    Location  Year  Kilometers_Driven Fuel_Type  \\\n",
       "0     Maruti 800 Std BSIII   Bangalore  2012              33715    Diesel   \n",
       "1      Honda City 1.5 V AT       Delhi  2013              73977    Diesel   \n",
       "2        Honda CR-V RVi MT       Delhi  2007              16460       CNG   \n",
       "3  Skoda Yeti Ambition 4X2     Kolkata  2009              35048    Petrol   \n",
       "4    Hyundai i10 Magna LPG  Coimbatore  2013              41656    Petrol   \n",
       "\n",
       "  Transmission Owner_Type     Mileage   Engine     Power  Seats   New_Price  \\\n",
       "0       Manual      First  16.46 kmpl  1248 CC   100 bhp    5.0  43.65 Lakh   \n",
       "1       Manual      First   18.6 kmpl  2993 CC    61 bhp    4.0         NaN   \n",
       "2       Manual      Third   15.3 kmpl  1599 CC   140 bhp    5.0         NaN   \n",
       "3       Manual      First  25.47 kmpl  1196 CC  86.8 bhp    5.0         NaN   \n",
       "4    Automatic      First  19.12 kmpl  1999 CC   115 bhp    7.0  13.26 Lakh   \n",
       "\n",
       "   Price  \n",
       "0  25.53  \n",
       "1   4.58  \n",
       "2   2.37  \n",
       "3   1.20  \n",
       "4  33.04  "
      ]
     },
     "execution_count": 8,
     "metadata": {},
     "output_type": "execute_result"
    }
   ],
   "source": [
    "combi.head(5)"
   ]
  },
  {
   "cell_type": "code",
   "execution_count": 9,
   "id": "d91978e0",
   "metadata": {},
   "outputs": [
    {
     "data": {
      "text/html": [
       "<div>\n",
       "<style scoped>\n",
       "    .dataframe tbody tr th:only-of-type {\n",
       "        vertical-align: middle;\n",
       "    }\n",
       "\n",
       "    .dataframe tbody tr th {\n",
       "        vertical-align: top;\n",
       "    }\n",
       "\n",
       "    .dataframe thead th {\n",
       "        text-align: right;\n",
       "    }\n",
       "</style>\n",
       "<table border=\"1\" class=\"dataframe\">\n",
       "  <thead>\n",
       "    <tr style=\"text-align: right;\">\n",
       "      <th></th>\n",
       "      <th>Name</th>\n",
       "      <th>Location</th>\n",
       "      <th>Year</th>\n",
       "      <th>Kilometers_Driven</th>\n",
       "      <th>Fuel_Type</th>\n",
       "      <th>Transmission</th>\n",
       "      <th>Owner_Type</th>\n",
       "      <th>Mileage</th>\n",
       "      <th>Engine</th>\n",
       "      <th>Power</th>\n",
       "      <th>Seats</th>\n",
       "      <th>New_Price</th>\n",
       "      <th>Price</th>\n",
       "    </tr>\n",
       "  </thead>\n",
       "  <tbody>\n",
       "    <tr>\n",
       "      <th>74995</th>\n",
       "      <td>Honda Mobilio S i DTEC</td>\n",
       "      <td>Kolkata</td>\n",
       "      <td>2014</td>\n",
       "      <td>59533</td>\n",
       "      <td>Diesel</td>\n",
       "      <td>Manual</td>\n",
       "      <td>First</td>\n",
       "      <td>16.09 kmpl</td>\n",
       "      <td>1248 CC</td>\n",
       "      <td>null bhp</td>\n",
       "      <td>8.0</td>\n",
       "      <td>NaN</td>\n",
       "      <td>NaN</td>\n",
       "    </tr>\n",
       "    <tr>\n",
       "      <th>74996</th>\n",
       "      <td>Toyota Etios Liva 1.2 G</td>\n",
       "      <td>Kochi</td>\n",
       "      <td>2017</td>\n",
       "      <td>56122</td>\n",
       "      <td>Diesel</td>\n",
       "      <td>Manual</td>\n",
       "      <td>First</td>\n",
       "      <td>12.6 kmpl</td>\n",
       "      <td>1591 CC</td>\n",
       "      <td>85.8 bhp</td>\n",
       "      <td>5.0</td>\n",
       "      <td>1.36 Cr</td>\n",
       "      <td>NaN</td>\n",
       "    </tr>\n",
       "    <tr>\n",
       "      <th>74997</th>\n",
       "      <td>Maruti Zen LX</td>\n",
       "      <td>Hyderabad</td>\n",
       "      <td>2012</td>\n",
       "      <td>57365</td>\n",
       "      <td>Diesel</td>\n",
       "      <td>Manual</td>\n",
       "      <td>First</td>\n",
       "      <td>22.0 kmpl</td>\n",
       "      <td>2993 CC</td>\n",
       "      <td>174.3 bhp</td>\n",
       "      <td>5.0</td>\n",
       "      <td>10.04 Lakh</td>\n",
       "      <td>NaN</td>\n",
       "    </tr>\n",
       "    <tr>\n",
       "      <th>74998</th>\n",
       "      <td>Toyota Innova 2.5 VX (Diesel) 7 Seater</td>\n",
       "      <td>Hyderabad</td>\n",
       "      <td>2012</td>\n",
       "      <td>33307</td>\n",
       "      <td>Diesel</td>\n",
       "      <td>Manual</td>\n",
       "      <td>First</td>\n",
       "      <td>10.98 kmpl</td>\n",
       "      <td>1995 CC</td>\n",
       "      <td>112 bhp</td>\n",
       "      <td>5.0</td>\n",
       "      <td>NaN</td>\n",
       "      <td>NaN</td>\n",
       "    </tr>\n",
       "    <tr>\n",
       "      <th>74999</th>\n",
       "      <td>Toyota Etios G</td>\n",
       "      <td>Kolkata</td>\n",
       "      <td>2017</td>\n",
       "      <td>43949</td>\n",
       "      <td>Petrol</td>\n",
       "      <td>Manual</td>\n",
       "      <td>First</td>\n",
       "      <td>14.0 kmpl</td>\n",
       "      <td>1798 CC</td>\n",
       "      <td>488.1 bhp</td>\n",
       "      <td>5.0</td>\n",
       "      <td>NaN</td>\n",
       "      <td>NaN</td>\n",
       "    </tr>\n",
       "  </tbody>\n",
       "</table>\n",
       "</div>"
      ],
      "text/plain": [
       "                                         Name   Location  Year  \\\n",
       "74995                  Honda Mobilio S i DTEC    Kolkata  2014   \n",
       "74996                 Toyota Etios Liva 1.2 G      Kochi  2017   \n",
       "74997                           Maruti Zen LX  Hyderabad  2012   \n",
       "74998  Toyota Innova 2.5 VX (Diesel) 7 Seater  Hyderabad  2012   \n",
       "74999                          Toyota Etios G    Kolkata  2017   \n",
       "\n",
       "       Kilometers_Driven Fuel_Type Transmission Owner_Type     Mileage  \\\n",
       "74995              59533    Diesel       Manual      First  16.09 kmpl   \n",
       "74996              56122    Diesel       Manual      First   12.6 kmpl   \n",
       "74997              57365    Diesel       Manual      First   22.0 kmpl   \n",
       "74998              33307    Diesel       Manual      First  10.98 kmpl   \n",
       "74999              43949    Petrol       Manual      First   14.0 kmpl   \n",
       "\n",
       "        Engine      Power  Seats   New_Price  Price  \n",
       "74995  1248 CC   null bhp    8.0         NaN    NaN  \n",
       "74996  1591 CC   85.8 bhp    5.0     1.36 Cr    NaN  \n",
       "74997  2993 CC  174.3 bhp    5.0  10.04 Lakh    NaN  \n",
       "74998  1995 CC    112 bhp    5.0         NaN    NaN  \n",
       "74999  1798 CC  488.1 bhp    5.0         NaN    NaN  "
      ]
     },
     "execution_count": 9,
     "metadata": {},
     "output_type": "execute_result"
    }
   ],
   "source": [
    "combi.tail(5)"
   ]
  },
  {
   "cell_type": "code",
   "execution_count": 10,
   "id": "39e67d24",
   "metadata": {},
   "outputs": [
    {
     "data": {
      "text/plain": [
       "((75000, 13), (22500, 13), (52500, 12))"
      ]
     },
     "execution_count": 10,
     "metadata": {},
     "output_type": "execute_result"
    }
   ],
   "source": [
    "combi.shape , train.shape , test.shape"
   ]
  },
  {
   "cell_type": "code",
   "execution_count": 11,
   "id": "95e82566",
   "metadata": {},
   "outputs": [
    {
     "data": {
      "text/plain": [
       "Name                  object\n",
       "Location              object\n",
       "Year                   int64\n",
       "Kilometers_Driven      int64\n",
       "Fuel_Type             object\n",
       "Transmission          object\n",
       "Owner_Type            object\n",
       "Mileage               object\n",
       "Engine                object\n",
       "Power                 object\n",
       "Seats                float64\n",
       "New_Price             object\n",
       "Price                float64\n",
       "dtype: object"
      ]
     },
     "execution_count": 11,
     "metadata": {},
     "output_type": "execute_result"
    }
   ],
   "source": [
    "combi.dtypes"
   ]
  },
  {
   "cell_type": "code",
   "execution_count": 12,
   "id": "30c7c6da",
   "metadata": {},
   "outputs": [
    {
     "data": {
      "text/plain": [
       "Name                     0\n",
       "Location                 0\n",
       "Year                     0\n",
       "Kilometers_Driven        0\n",
       "Fuel_Type                0\n",
       "Transmission             0\n",
       "Owner_Type               0\n",
       "Mileage                341\n",
       "Engine                 106\n",
       "Power                  317\n",
       "Seats                  338\n",
       "New_Price            61934\n",
       "Price                52500\n",
       "dtype: int64"
      ]
     },
     "execution_count": 12,
     "metadata": {},
     "output_type": "execute_result"
    }
   ],
   "source": [
    "combi.isna().sum()"
   ]
  },
  {
   "cell_type": "code",
   "execution_count": 13,
   "id": "9c85e210",
   "metadata": {},
   "outputs": [
    {
     "data": {
      "text/plain": [
       "array(['Maruti 800 Std BSIII', 'Honda City 1.5 V AT', 'Honda CR-V RVi MT',\n",
       "       ..., 'Hyundai i20 2015-2017 Asta 1.2',\n",
       "       'Hyundai Santro LP - Euro II', 'Maruti Ertiga VDI Limited Edition'],\n",
       "      dtype=object)"
      ]
     },
     "execution_count": 13,
     "metadata": {},
     "output_type": "execute_result"
    }
   ],
   "source": [
    "combi[\"Name\"].unique()"
   ]
  },
  {
   "cell_type": "code",
   "execution_count": 14,
   "id": "3354fa53",
   "metadata": {},
   "outputs": [],
   "source": [
    "a=combi[\"Name\"]\n",
    "b=[]"
   ]
  },
  {
   "cell_type": "code",
   "execution_count": 15,
   "id": "ecc3040c",
   "metadata": {},
   "outputs": [],
   "source": [
    "for i in a:\n",
    "    b.append(i.split(' ')[0])"
   ]
  },
  {
   "cell_type": "code",
   "execution_count": 16,
   "id": "e50bc7c9",
   "metadata": {},
   "outputs": [],
   "source": [
    "combi[\"Company\"] = b"
   ]
  },
  {
   "cell_type": "code",
   "execution_count": 17,
   "id": "c6e713e3",
   "metadata": {},
   "outputs": [
    {
     "data": {
      "text/plain": [
       "array(['16.46 kmpl', '18.6 kmpl', '15.3 kmpl', '25.47 kmpl', '19.12 kmpl',\n",
       "       '20.4 kmpl', '25.44 kmpl', '17.5 kmpl', '23.65 kmpl', '22.5 kmpl',\n",
       "       '13.49 kmpl', '19.01 kmpl', '16.95 kmpl', '17.0 kmpl',\n",
       "       '18.88 kmpl', '19.0 kmpl', '13.1 kmpl', '23.84 kmpl', '17.8 kmpl',\n",
       "       '15.0 kmpl', '11.49 kmpl', '11.57 kmpl', '17.0 km/kg',\n",
       "       '26.6 km/kg', '14.07 kmpl', '17.68 kmpl', '12.99 kmpl',\n",
       "       '16.8 kmpl', '17.1 kmpl', '15.29 kmpl', '20.73 kmpl', '22.48 kmpl',\n",
       "       '11.8 kmpl', '21.76 kmpl', '20.85 kmpl', '11.1 kmpl', '23.1 kmpl',\n",
       "       '12.8 kmpl', '10.2 kmpl', '18.48 kmpl', nan, '15.17 kmpl',\n",
       "       '33.44 km/kg', '13.5 kmpl', '19.81 kmpl', '15.6 kmpl',\n",
       "       '15.04 kmpl', '17.01 kmpl', '15.97 kmpl', '14.8 kmpl',\n",
       "       '21.27 kmpl', '18.9 kmpl', '10.5 kmpl', '23.19 kmpl', '18.3 kmpl',\n",
       "       '19.1 kmpl', '17.4 kmpl', '12.07 kmpl', '24.0 kmpl', '11.5 kmpl',\n",
       "       '22.3 kmpl', '24.07 kmpl', '13.7 kmpl', '16.6 kmpl', '15.87 kmpl',\n",
       "       '26.2 km/kg', '17.9 kmpl', '13.33 kmpl', '22.9 kmpl', '18.53 kmpl',\n",
       "       '20.62 kmpl', '20.51 kmpl', '21.38 kmpl', '20.54 kmpl',\n",
       "       '16.7 kmpl', '17.45 kmpl', '18.25 kmpl', '8.1 kmpl', '23.0 kmpl',\n",
       "       '23.4 kmpl', '18.5 kmpl', '24.7 kmpl', '16.36 kmpl', '15.1 km/kg',\n",
       "       '14.21 kmpl', '21.19 kmpl', '18.16 kmpl', '14.53 kmpl',\n",
       "       '27.62 kmpl', '12.7 kmpl', '23.2 kmpl', '19.27 kmpl', '14.84 kmpl',\n",
       "       '14.3 kmpl', '21.1 kmpl', '20.68 kmpl', '20.7 kmpl', '26.59 kmpl',\n",
       "       '21.4 kmpl', '22.1 km/kg', '15.68 kmpl', '13.2 km/kg', '22.7 kmpl',\n",
       "       '10.93 kmpl', '28.09 kmpl', '16.55 kmpl', '17.3 km/kg',\n",
       "       '18.59 kmpl', '21.2 kmpl', '18.2 kmpl', '18.4 kmpl', '20.36 kmpl',\n",
       "       '15.7 kmpl', '18.1 kmpl', '20.3 kmpl', '16.09 kmpl', '25.4 kmpl',\n",
       "       '15.9 kmpl', '9.43 kmpl', '26.21 kmpl', '24.3 kmpl', '18.86 kmpl',\n",
       "       '13.68 kmpl', '21.5 kmpl', '11.9 kmpl', '27.39 kmpl', '18.49 kmpl',\n",
       "       '20.77 kmpl', '18.7 kmpl', '18.15 kmpl', '26.0 kmpl', '17.11 kmpl',\n",
       "       '12.63 kmpl', '14.0 kmpl', '11.3 kmpl', '33.54 km/kg',\n",
       "       '21.03 kmpl', '15.8 kmpl', '22.32 kmpl', '12.05 kmpl',\n",
       "       '21.43 kmpl', '12.3 kmpl', '20.0 kmpl', '27.03 kmpl', '16.0 kmpl',\n",
       "       '17.85 kmpl', '13.8 kmpl', '13.0 kmpl', '21.21 kmpl', '18.0 kmpl',\n",
       "       '16.2 kmpl', '19.4 kmpl', '12.0 kmpl', '21.9 kmpl', '17.3 kmpl',\n",
       "       '22.07 kmpl', '23.59 kmpl', '25.1 kmpl', '11.0 kmpl', '20.14 kmpl',\n",
       "       '20.5 kmpl', '22.0 kmpl', '22.74 kmpl', '19.7 kmpl', '21.56 kmpl',\n",
       "       '13.9 kmpl', '24.5 kmpl', '19.44 kmpl', '0.0 kmpl', '19.83 kmpl',\n",
       "       '22.54 kmpl', '15.73 kmpl', '13.93 kmpl', '16.52 kmpl', '9.3 kmpl',\n",
       "       '12.4 kmpl', '19.16 kmpl', '13.4 kmpl', '10.91 kmpl', '28.4 kmpl',\n",
       "       '10.0 kmpl', '11.72 kmpl', '20.65 kmpl', '25.0 kmpl', '24.4 kmpl',\n",
       "       '12.98 kmpl', '20.92 kmpl', '12.6 kmpl', '10.8 kmpl', '25.6 kmpl',\n",
       "       '15.5 kmpl', '25.8 kmpl', '20.34 kmpl', '19.87 kmpl', '13.14 kmpl',\n",
       "       '21.12 kmpl', '18.19 kmpl', '9.0 kmpl', '15.64 kmpl', '14.94 kmpl',\n",
       "       '19.3 kmpl', '19.5 kmpl', '14.67 kmpl', '14.62 kmpl', '17.88 kmpl',\n",
       "       '16.3 kmpl', '14.42 kmpl', '14.4 kmpl', '23.08 kmpl', '20.46 kmpl',\n",
       "       '13.45 km/kg', '15.1 kmpl', '11.05 kmpl', '13.2 kmpl', '16.5 kmpl',\n",
       "       '16.47 kmpl', '19.6 kmpl', '9.5 kmpl', '25.2 kmpl', '17.57 kmpl',\n",
       "       '21.66 kmpl', '18.78 kmpl', '22.69 kmpl', '14.53 km/kg',\n",
       "       '17.16 kmpl', '17.6 kmpl', '17.05 kmpl', '11.18 kmpl',\n",
       "       '16.07 kmpl', '16.02 kmpl', '9.52 kmpl', '19.2 km/kg',\n",
       "       '20.45 kmpl', '11.7 kmpl', '12.9 kmpl', '16.05 kmpl', '14.49 kmpl',\n",
       "       '21.02 kmpl', '13.6 kmpl', '16.98 kmpl', '16.1 kmpl', '17.97 kmpl',\n",
       "       '17.67 kmpl', '18.56 kmpl', '14.95 kmpl', '14.74 kmpl',\n",
       "       '12.62 kmpl', '23.5 kmpl', '14.24 kmpl', '15.2 kmpl', '15.4 kmpl',\n",
       "       '15.26 kmpl', '16.78 kmpl', '13.44 kmpl', '13.73 kmpl',\n",
       "       '22.95 kmpl', '20.38 kmpl', '9.7 kmpl', '13.53 kmpl', '19.67 kmpl',\n",
       "       '18.69 kmpl', '16.77 kmpl', '11.2 kmpl', '18.06 kmpl',\n",
       "       '18.33 kmpl', '21.64 kmpl', '11.36 kmpl', '17.21 kmpl',\n",
       "       '15.74 kmpl', '12.5 kmpl', '26.3 km/kg', '25.17 kmpl',\n",
       "       '12.51 kmpl', '13.22 kmpl', '31.79 km/kg', '26.1 kmpl',\n",
       "       '23.9 kmpl', '17.44 kmpl', '15.15 kmpl', '14.7 kmpl', '20.89 kmpl',\n",
       "       '16.73 kmpl', '24.2 kmpl', '14.33 kmpl', '23.3 kmpl', '8.77 kmpl',\n",
       "       '18.23 kmpl', '14.6 kmpl', '21.0 kmpl', '14.28 kmpl', '19.2 kmpl',\n",
       "       '17.92 kmpl', '20.58 kmpl', '19.98 kmpl', '17.54 kmpl',\n",
       "       '18.12 kmpl', '25.0 km/kg', '12.65 kmpl', '17.06 kmpl',\n",
       "       '17.09 kmpl', '12.55 kmpl', '9.1 kmpl', '16.82 kmpl',\n",
       "       '26.83 km/kg', '17.43 kmpl', '20.0 km/kg', '21.7 kmpl',\n",
       "       '15.96 kmpl', '26.8 kmpl', '10.9 kmpl', '14.75 kmpl', '23.8 kmpl',\n",
       "       '10.13 kmpl', '10.1 kmpl', '14.39 kmpl', '15.63 kmpl',\n",
       "       '19.33 kmpl', '19.08 kmpl', '23.57 kmpl', '16.12 kmpl',\n",
       "       '16.96 kmpl', '24.6 km/kg', '14.69 kmpl', '11.07 kmpl',\n",
       "       '17.7 kmpl', '9.9 kmpl', '11.25 kmpl', '16.4 kmpl', '24.52 kmpl',\n",
       "       '14.66 kmpl', '13.58 kmpl', '9.8 kmpl', '7.5 kmpl', '18.44 kmpl',\n",
       "       '12.83 kmpl', '19.59 kmpl', '15.11 kmpl', '12.81 kmpl',\n",
       "       '13.06 kmpl', '14.9 kmpl', '27.4 kmpl', '13.01 kmpl', '21.72 kmpl',\n",
       "       '17.71 kmpl', '7.94 kmpl', '11.74 kmpl', '12.39 kmpl', '8.7 kmpl',\n",
       "       '21.1 km/kg', '16.9 kmpl', '25.83 kmpl', '21.14 kmpl',\n",
       "       '32.26 km/kg', '17.5 km/kg', '19.72 kmpl', '12.35 kmpl',\n",
       "       '8.45 kmpl', '10.37 kmpl', '18.18 kmpl', '20.63 kmpl', '9.74 kmpl',\n",
       "       '10.4 kmpl', '12.95 kmpl', '25.5 kmpl', '27.3 kmpl', '19.15 kmpl',\n",
       "       '19.71 kmpl', '6.4 kmpl', '12.1 kmpl', '19.49 kmpl', '17.32 kmpl',\n",
       "       '15.85 kmpl', '20.37 kmpl', '24.04 kmpl', '12.37 kmpl',\n",
       "       '17.72 kmpl', '17.2 kmpl', '8.0 kmpl', '11.4 kmpl', '8.2 kmpl',\n",
       "       '7.81 kmpl', '8.5 kmpl', '25.32 kmpl', '22.8 km/kg', '15.06 kmpl',\n",
       "       '16.93 kmpl', '14.16 kmpl', '11.56 kmpl', '19.09 kmpl',\n",
       "       '20.64 kmpl', '13.24 kmpl', '14.2 kmpl', '23.01 kmpl',\n",
       "       '12.85 kmpl', '19.91 kmpl', '17.19 kmpl', '18.8 kmpl',\n",
       "       '11.68 kmpl', '11.33 kmpl', '13.29 kmpl', '30.46 km/kg',\n",
       "       '13.17 kmpl', '12.19 kmpl', '21.4 km/kg', '24.8 kmpl',\n",
       "       '21.13 kmpl', '22.77 kmpl', '23.03 kmpl', '20.86 kmpl',\n",
       "       '17.24 kmpl', '14.02 kmpl', '19.64 kmpl', '11.78 kmpl',\n",
       "       '15.42 kmpl', '14.81 kmpl', '21.8 kmpl', '14.83 kmpl', '14.1 kmpl',\n",
       "       '16.25 kmpl', '22.71 kmpl', '11.79 kmpl', '14.57 kmpl',\n",
       "       '21.79 kmpl', '19.34 kmpl', '10.6 kmpl', '8.6 kmpl', '11.62 kmpl',\n",
       "       '14.45 kmpl', '14.47 kmpl', '12.97 kmpl', '27.28 kmpl',\n",
       "       '25.01 kmpl', '17.84 kmpl', '15.41 kmpl', '8.3 kmpl', '18.51 kmpl',\n",
       "       '16.38 kmpl', '19.69 kmpl', '10.98 kmpl', '19.68 kmpl',\n",
       "       '22.1 kmpl', '16.51 kmpl', '14.59 kmpl'], dtype=object)"
      ]
     },
     "execution_count": 17,
     "metadata": {},
     "output_type": "execute_result"
    }
   ],
   "source": [
    "combi[\"Mileage\"].unique()"
   ]
  },
  {
   "cell_type": "code",
   "execution_count": 18,
   "id": "67629abe",
   "metadata": {},
   "outputs": [
    {
     "data": {
      "text/html": [
       "<div>\n",
       "<style scoped>\n",
       "    .dataframe tbody tr th:only-of-type {\n",
       "        vertical-align: middle;\n",
       "    }\n",
       "\n",
       "    .dataframe tbody tr th {\n",
       "        vertical-align: top;\n",
       "    }\n",
       "\n",
       "    .dataframe thead th {\n",
       "        text-align: right;\n",
       "    }\n",
       "</style>\n",
       "<table border=\"1\" class=\"dataframe\">\n",
       "  <thead>\n",
       "    <tr style=\"text-align: right;\">\n",
       "      <th></th>\n",
       "      <th>Name</th>\n",
       "      <th>Location</th>\n",
       "      <th>Year</th>\n",
       "      <th>Kilometers_Driven</th>\n",
       "      <th>Fuel_Type</th>\n",
       "      <th>Transmission</th>\n",
       "      <th>Owner_Type</th>\n",
       "      <th>Mileage</th>\n",
       "      <th>Engine</th>\n",
       "      <th>Power</th>\n",
       "      <th>Seats</th>\n",
       "      <th>New_Price</th>\n",
       "      <th>Price</th>\n",
       "      <th>Company</th>\n",
       "    </tr>\n",
       "  </thead>\n",
       "  <tbody>\n",
       "    <tr>\n",
       "      <th>0</th>\n",
       "      <td>Maruti 800 Std BSIII</td>\n",
       "      <td>Bangalore</td>\n",
       "      <td>2012</td>\n",
       "      <td>33715</td>\n",
       "      <td>Diesel</td>\n",
       "      <td>Manual</td>\n",
       "      <td>First</td>\n",
       "      <td>16.46 kmpl</td>\n",
       "      <td>1248 CC</td>\n",
       "      <td>100 bhp</td>\n",
       "      <td>5.0</td>\n",
       "      <td>43.65 Lakh</td>\n",
       "      <td>25.53</td>\n",
       "      <td>Maruti</td>\n",
       "    </tr>\n",
       "    <tr>\n",
       "      <th>1</th>\n",
       "      <td>Honda City 1.5 V AT</td>\n",
       "      <td>Delhi</td>\n",
       "      <td>2013</td>\n",
       "      <td>73977</td>\n",
       "      <td>Diesel</td>\n",
       "      <td>Manual</td>\n",
       "      <td>First</td>\n",
       "      <td>18.6 kmpl</td>\n",
       "      <td>2993 CC</td>\n",
       "      <td>61 bhp</td>\n",
       "      <td>4.0</td>\n",
       "      <td>NaN</td>\n",
       "      <td>4.58</td>\n",
       "      <td>Honda</td>\n",
       "    </tr>\n",
       "  </tbody>\n",
       "</table>\n",
       "</div>"
      ],
      "text/plain": [
       "                   Name   Location  Year  Kilometers_Driven Fuel_Type  \\\n",
       "0  Maruti 800 Std BSIII  Bangalore  2012              33715    Diesel   \n",
       "1   Honda City 1.5 V AT      Delhi  2013              73977    Diesel   \n",
       "\n",
       "  Transmission Owner_Type     Mileage   Engine    Power  Seats   New_Price  \\\n",
       "0       Manual      First  16.46 kmpl  1248 CC  100 bhp    5.0  43.65 Lakh   \n",
       "1       Manual      First   18.6 kmpl  2993 CC   61 bhp    4.0         NaN   \n",
       "\n",
       "   Price Company  \n",
       "0  25.53  Maruti  \n",
       "1   4.58   Honda  "
      ]
     },
     "execution_count": 18,
     "metadata": {},
     "output_type": "execute_result"
    }
   ],
   "source": [
    "combi.head(2)"
   ]
  },
  {
   "cell_type": "code",
   "execution_count": 19,
   "id": "c17611a5",
   "metadata": {},
   "outputs": [
    {
     "data": {
      "text/plain": [
       "Manual       60107\n",
       "Automatic    14893\n",
       "Name: Transmission, dtype: int64"
      ]
     },
     "execution_count": 19,
     "metadata": {},
     "output_type": "execute_result"
    }
   ],
   "source": [
    "combi[\"Transmission\"].value_counts()"
   ]
  },
  {
   "cell_type": "code",
   "execution_count": 20,
   "id": "a0325ba2",
   "metadata": {},
   "outputs": [
    {
     "data": {
      "text/plain": [
       "Petrol      33678\n",
       "Diesel      33567\n",
       "CNG          7648\n",
       "LPG            57\n",
       "Electric       50\n",
       "Name: Fuel_Type, dtype: int64"
      ]
     },
     "execution_count": 20,
     "metadata": {},
     "output_type": "execute_result"
    }
   ],
   "source": [
    "combi[\"Fuel_Type\"].value_counts()"
   ]
  },
  {
   "cell_type": "markdown",
   "id": "2f2388af",
   "metadata": {},
   "source": [
    "### As lpg, and cng are almost same category in vehicles term.. bin them together.\n"
   ]
  },
  {
   "cell_type": "code",
   "execution_count": 21,
   "id": "9af237ee",
   "metadata": {},
   "outputs": [],
   "source": [
    "combi['Fuel_Type'] = combi['Fuel_Type'].replace([\"LPG\",\"CNG\"],\"CNG\" , method=\"str\")"
   ]
  },
  {
   "cell_type": "code",
   "execution_count": 22,
   "id": "330c4a70",
   "metadata": {},
   "outputs": [
    {
     "data": {
      "text/plain": [
       "<AxesSubplot:>"
      ]
     },
     "execution_count": 22,
     "metadata": {},
     "output_type": "execute_result"
    },
    {
     "data": {
      "image/png": "[encoded data removed]",
      "text/plain": [
       "<Figure size 432x288 with 1 Axes>"
      ]
     },
     "metadata": {
      "needs_background": "light"
     },
     "output_type": "display_data"
    }
   ],
   "source": [
    "combi['Fuel_Type'].value_counts().plot(kind=\"bar\")"
   ]
  },
  {
   "cell_type": "code",
   "execution_count": 23,
   "id": "bc21f46c",
   "metadata": {},
   "outputs": [
    {
     "data": {
      "text/plain": [
       "<AxesSubplot:xlabel='Fuel_Type', ylabel='Price'>"
      ]
     },
     "execution_count": 23,
     "metadata": {},
     "output_type": "execute_result"
    },
    {
     "data": {
      "image/png": "[encoded data removed]",
      "text/plain": [
       "<Figure size 432x288 with 1 Axes>"
      ]
     },
     "metadata": {
      "needs_background": "light"
     },
     "output_type": "display_data"
    }
   ],
   "source": [
    "sns.boxplot(combi['Fuel_Type'] , train[\"Price\"])"
   ]
  },
  {
   "cell_type": "code",
   "execution_count": 24,
   "id": "b9107fd4",
   "metadata": {},
   "outputs": [
    {
     "data": {
      "text/plain": [
       "<AxesSubplot:xlabel='Transmission', ylabel='Price'>"
      ]
     },
     "execution_count": 24,
     "metadata": {},
     "output_type": "execute_result"
    },
    {
     "data": {
      "image/png": "[encoded data removed]",
      "text/plain": [
       "<Figure size 432x288 with 1 Axes>"
      ]
     },
     "metadata": {
      "needs_background": "light"
     },
     "output_type": "display_data"
    }
   ],
   "source": [
    "sns.boxplot(combi['Transmission'] , train[\"Price\"])"
   ]
  },
  {
   "cell_type": "code",
   "execution_count": 25,
   "id": "e0ecc530",
   "metadata": {},
   "outputs": [
    {
     "data": {
      "text/plain": [
       "First             67452\n",
       "Second             5647\n",
       "Third              1736\n",
       "Fourth & Above      165\n",
       "Name: Owner_Type, dtype: int64"
      ]
     },
     "execution_count": 25,
     "metadata": {},
     "output_type": "execute_result"
    }
   ],
   "source": [
    "combi[\"Owner_Type\"].value_counts()"
   ]
  },
  {
   "cell_type": "code",
   "execution_count": 26,
   "id": "b4aa1517",
   "metadata": {},
   "outputs": [
    {
     "data": {
      "text/plain": [
       "58.16 bhp     4550\n",
       "67.1 bhp      3014\n",
       "null bhp      2316\n",
       "121.3 bhp     1604\n",
       "70 bhp        1549\n",
       "              ... \n",
       "52.8 bhp        16\n",
       "74.93 bhp       16\n",
       "73.74 bhp       15\n",
       "254 bhp         12\n",
       "181.04 bhp       7\n",
       "Name: Power, Length: 372, dtype: int64"
      ]
     },
     "execution_count": 26,
     "metadata": {},
     "output_type": "execute_result"
    }
   ],
   "source": [
    "combi[\"Power\"].value_counts()"
   ]
  },
  {
   "cell_type": "code",
   "execution_count": 27,
   "id": "26e7b30f",
   "metadata": {},
   "outputs": [
    {
     "data": {
      "text/plain": [
       "998 CC     7398\n",
       "1197 CC    6127\n",
       "1498 CC    3900\n",
       "1248 CC    3032\n",
       "1198 CC    2627\n",
       "           ... \n",
       "2694 CC      17\n",
       "2200 CC      16\n",
       "2495 CC      15\n",
       "1489 CC      14\n",
       "3200 CC      12\n",
       "Name: Engine, Length: 146, dtype: int64"
      ]
     },
     "execution_count": 27,
     "metadata": {},
     "output_type": "execute_result"
    }
   ],
   "source": [
    "combi[\"Engine\"].value_counts()"
   ]
  },
  {
   "cell_type": "code",
   "execution_count": 28,
   "id": "6901b7bf",
   "metadata": {},
   "outputs": [
    {
     "data": {
      "text/plain": [
       "<AxesSubplot:xlabel='Owner_Type', ylabel='Price'>"
      ]
     },
     "execution_count": 28,
     "metadata": {},
     "output_type": "execute_result"
    },
    {
     "data": {
      "image/png": "[encoded data removed]",
      "text/plain": [
       "<Figure size 432x288 with 1 Axes>"
      ]
     },
     "metadata": {
      "needs_background": "light"
     },
     "output_type": "display_data"
    }
   ],
   "source": [
    "sns.boxplot(train[\"Owner_Type\"] , train[\"Price\"])"
   ]
  },
  {
   "cell_type": "code",
   "execution_count": 29,
   "id": "245e85fc",
   "metadata": {},
   "outputs": [],
   "source": [
    "combi['Owner_Type']= combi['Owner_Type'].replace([\"Fourth & Above\",\"Third\"],\"Old car\" , method=\"str\")\n",
    "        "
   ]
  },
  {
   "cell_type": "code",
   "execution_count": 30,
   "id": "f3a771ee",
   "metadata": {},
   "outputs": [
    {
     "data": {
      "text/plain": [
       "2013    13891\n",
       "2012    10455\n",
       "2014     8769\n",
       "2009     8742\n",
       "2010     8543\n",
       "2011     8486\n",
       "2015     4595\n",
       "2017     3133\n",
       "2007     2451\n",
       "2016     2260\n",
       "2006     1055\n",
       "2008      967\n",
       "2004      443\n",
       "2005      427\n",
       "2018      313\n",
       "2003      305\n",
       "2002      130\n",
       "2001       31\n",
       "2000        4\n",
       "Name: Year, dtype: int64"
      ]
     },
     "execution_count": 30,
     "metadata": {},
     "output_type": "execute_result"
    }
   ],
   "source": [
    "combi['Year'].value_counts()"
   ]
  },
  {
   "cell_type": "code",
   "execution_count": 31,
   "id": "34d82192",
   "metadata": {},
   "outputs": [
    {
     "data": {
      "text/plain": [
       "<AxesSubplot:xlabel='Year', ylabel='Price'>"
      ]
     },
     "execution_count": 31,
     "metadata": {},
     "output_type": "execute_result"
    },
    {
     "data": {
      "image/png": "[encoded data removed]",
      "text/plain": [
       "<Figure size 1080x576 with 1 Axes>"
      ]
     },
     "metadata": {
      "needs_background": "light"
     },
     "output_type": "display_data"
    }
   ],
   "source": [
    "plt.figure(figsize =(15,8))\n",
    "sns.boxplot(train[\"Year\"] , train[\"Price\"])"
   ]
  },
  {
   "cell_type": "code",
   "execution_count": 32,
   "id": "e107140c",
   "metadata": {},
   "outputs": [
    {
     "data": {
      "text/plain": [
       "<AxesSubplot:xlabel='Location', ylabel='Price'>"
      ]
     },
     "execution_count": 32,
     "metadata": {},
     "output_type": "execute_result"
    },
    {
     "data": {
      "image/png": "[encoded data removed]",
      "text/plain": [
       "<Figure size 1080x576 with 1 Axes>"
      ]
     },
     "metadata": {
      "needs_background": "light"
     },
     "output_type": "display_data"
    }
   ],
   "source": [
    "plt.figure(figsize =(15,8))\n",
    "sns.boxplot(train[\"Location\"] , train[\"Price\"])"
   ]
  },
  {
   "cell_type": "code",
   "execution_count": 33,
   "id": "7a3c7a2a",
   "metadata": {},
   "outputs": [
    {
     "data": {
      "text/plain": [
       "<AxesSubplot:xlabel='Seats', ylabel='Price'>"
      ]
     },
     "execution_count": 33,
     "metadata": {},
     "output_type": "execute_result"
    },
    {
     "data": {
      "image/png": "[encoded data removed]",
      "text/plain": [
       "<Figure size 1080x576 with 1 Axes>"
      ]
     },
     "metadata": {
      "needs_background": "light"
     },
     "output_type": "display_data"
    }
   ],
   "source": [
    "plt.figure(figsize =(15,8))\n",
    "sns.boxplot(train[\"Seats\"] , train[\"Price\"])"
   ]
  },
  {
   "cell_type": "code",
   "execution_count": 34,
   "id": "90e3710e",
   "metadata": {},
   "outputs": [
    {
     "data": {
      "text/plain": [
       "<AxesSubplot:xlabel='Kilometers_Driven'>"
      ]
     },
     "execution_count": 34,
     "metadata": {},
     "output_type": "execute_result"
    },
    {
     "data": {
      "image/png": "[encoded data removed]",
      "text/plain": [
       "<Figure size 432x288 with 1 Axes>"
      ]
     },
     "metadata": {
      "needs_background": "light"
     },
     "output_type": "display_data"
    }
   ],
   "source": [
    "sns.boxplot(combi[\"Kilometers_Driven\"])"
   ]
  },
  {
   "cell_type": "markdown",
   "id": "0007d4a6",
   "metadata": {},
   "source": [
    "## Treating NULL VALUES and Insignificant Entry.."
   ]
  },
  {
   "cell_type": "markdown",
   "id": "b9c23376",
   "metadata": {},
   "source": [
    "1. Mileage"
   ]
  },
  {
   "cell_type": "code",
   "execution_count": 35,
   "id": "c7231c52",
   "metadata": {},
   "outputs": [],
   "source": [
    "c=combi['Mileage']\n",
    "d=[]\n",
    "combi['Mileage'].replace({np.nan:'0 '},inplace=True)\n",
    "for i in c:\n",
    "    d.append((i.split(' '))[0])\n",
    "    "
   ]
  },
  {
   "cell_type": "code",
   "execution_count": 36,
   "id": "ef13e54c",
   "metadata": {},
   "outputs": [],
   "source": [
    "e=[]\n",
    "for i in d:\n",
    "    e.append((float(i)))"
   ]
  },
  {
   "cell_type": "code",
   "execution_count": 37,
   "id": "985e4a2a",
   "metadata": {},
   "outputs": [],
   "source": [
    "combi['Mileage']=e"
   ]
  },
  {
   "cell_type": "code",
   "execution_count": 38,
   "id": "28784040",
   "metadata": {},
   "outputs": [],
   "source": [
    "combi['Mileage'].replace({0:np.nan},inplace=True)\n"
   ]
  },
  {
   "cell_type": "code",
   "execution_count": 39,
   "id": "e319414e",
   "metadata": {},
   "outputs": [],
   "source": [
    "a=combi[combi['Mileage'].isnull()]['Name']\n",
    "for i in a:\n",
    "    combi['Mileage'].fillna((combi.groupby(combi['Name']==i)['Mileage'].mean()[1]),inplace=True)"
   ]
  },
  {
   "cell_type": "markdown",
   "id": "bb8a8d64",
   "metadata": {},
   "source": [
    "2. Engine."
   ]
  },
  {
   "cell_type": "code",
   "execution_count": 40,
   "id": "62bc9382",
   "metadata": {},
   "outputs": [],
   "source": [
    "combi['Engine'].replace({np.nan:'0 '},inplace=True)\n",
    "a=combi['Engine']\n",
    "b=[]\n",
    "c=[]\n",
    "\n",
    "for i in a:\n",
    "    b.append(i.split(' ')[0])\n",
    "    "
   ]
  },
  {
   "cell_type": "code",
   "execution_count": 41,
   "id": "642c451e",
   "metadata": {},
   "outputs": [],
   "source": [
    "for i in b:\n",
    "    c.append(int(i))"
   ]
  },
  {
   "cell_type": "code",
   "execution_count": 42,
   "id": "a974e454",
   "metadata": {},
   "outputs": [],
   "source": [
    "combi['Engine']=c"
   ]
  },
  {
   "cell_type": "code",
   "execution_count": 43,
   "id": "0cb33bf2",
   "metadata": {},
   "outputs": [],
   "source": [
    "combi['Engine'].replace({0:np.nan},inplace=True)"
   ]
  },
  {
   "cell_type": "code",
   "execution_count": 44,
   "id": "705364be",
   "metadata": {},
   "outputs": [],
   "source": [
    "b=combi[combi['Engine'].isnull()]['Name']\n",
    "for i in b:\n",
    "    combi['Engine'].fillna((combi.groupby(combi['Name']==i)['Engine'].mean()[1]),inplace=True)"
   ]
  },
  {
   "cell_type": "markdown",
   "id": "520d7949",
   "metadata": {},
   "source": [
    "3. Power"
   ]
  },
  {
   "cell_type": "code",
   "execution_count": 45,
   "id": "cee7d122",
   "metadata": {},
   "outputs": [],
   "source": [
    "combi['Power'].replace({np.nan:'0 ','null bhp':'0.00 '},inplace=True)"
   ]
  },
  {
   "cell_type": "code",
   "execution_count": 46,
   "id": "b10ef2a7",
   "metadata": {},
   "outputs": [],
   "source": [
    "a=combi['Power']\n",
    "b=[]\n",
    "c=[]\n",
    "\n",
    "for i in a:\n",
    "    b.append(i.split(' ')[0])"
   ]
  },
  {
   "cell_type": "code",
   "execution_count": 47,
   "id": "f3e483eb",
   "metadata": {},
   "outputs": [],
   "source": [
    "for i in b:\n",
    "    c.append(float(i))"
   ]
  },
  {
   "cell_type": "code",
   "execution_count": 48,
   "id": "26577559",
   "metadata": {},
   "outputs": [],
   "source": [
    "combi['Power']=c"
   ]
  },
  {
   "cell_type": "code",
   "execution_count": 49,
   "id": "100d73df",
   "metadata": {},
   "outputs": [],
   "source": [
    "combi['Power'].replace({0:np.nan},inplace=True)"
   ]
  },
  {
   "cell_type": "code",
   "execution_count": 50,
   "id": "1544c93d",
   "metadata": {},
   "outputs": [],
   "source": [
    "c=combi[combi['Power'].isnull()]['Name']\n",
    "for i in c:\n",
    "    combi['Power'].fillna((combi.groupby(combi['Name']==i)['Power'].mean()[1]),inplace=True)"
   ]
  },
  {
   "cell_type": "markdown",
   "id": "e9517585",
   "metadata": {},
   "source": [
    "4. Seats"
   ]
  },
  {
   "cell_type": "code",
   "execution_count": 51,
   "id": "e138fc29",
   "metadata": {},
   "outputs": [],
   "source": [
    "d=combi[combi['Seats'].isnull()]['Name']\n",
    "for i in d:\n",
    "    combi['Seats'].fillna((combi.groupby(combi['Name']==i)['Seats'].agg(pd.Series.mode)[1]),inplace=True)"
   ]
  },
  {
   "cell_type": "code",
   "execution_count": 52,
   "id": "db478f4a",
   "metadata": {},
   "outputs": [],
   "source": [
    "combi.drop(\"New_Price\", axis=1 , inplace= True)"
   ]
  },
  {
   "cell_type": "code",
   "execution_count": 53,
   "id": "c45554c6",
   "metadata": {},
   "outputs": [
    {
     "data": {
      "text/plain": [
       "Name                     0\n",
       "Location                 0\n",
       "Year                     0\n",
       "Kilometers_Driven        0\n",
       "Fuel_Type                0\n",
       "Transmission             0\n",
       "Owner_Type               0\n",
       "Mileage                  0\n",
       "Engine                   0\n",
       "Power                    0\n",
       "Seats                    0\n",
       "Price                52500\n",
       "Company                  0\n",
       "dtype: int64"
      ]
     },
     "execution_count": 53,
     "metadata": {},
     "output_type": "execute_result"
    }
   ],
   "source": [
    "combi.isna().sum()"
   ]
  },
  {
   "cell_type": "code",
   "execution_count": 54,
   "id": "9c01fae4",
   "metadata": {},
   "outputs": [
    {
     "data": {
      "text/html": [
       "<div>\n",
       "<style scoped>\n",
       "    .dataframe tbody tr th:only-of-type {\n",
       "        vertical-align: middle;\n",
       "    }\n",
       "\n",
       "    .dataframe tbody tr th {\n",
       "        vertical-align: top;\n",
       "    }\n",
       "\n",
       "    .dataframe thead th {\n",
       "        text-align: right;\n",
       "    }\n",
       "</style>\n",
       "<table border=\"1\" class=\"dataframe\">\n",
       "  <thead>\n",
       "    <tr style=\"text-align: right;\">\n",
       "      <th></th>\n",
       "      <th>Name</th>\n",
       "      <th>Location</th>\n",
       "      <th>Year</th>\n",
       "      <th>Kilometers_Driven</th>\n",
       "      <th>Fuel_Type</th>\n",
       "      <th>Transmission</th>\n",
       "      <th>Owner_Type</th>\n",
       "      <th>Mileage</th>\n",
       "      <th>Engine</th>\n",
       "      <th>Power</th>\n",
       "      <th>Seats</th>\n",
       "      <th>Price</th>\n",
       "      <th>Company</th>\n",
       "    </tr>\n",
       "  </thead>\n",
       "  <tbody>\n",
       "    <tr>\n",
       "      <th>0</th>\n",
       "      <td>Maruti 800 Std BSIII</td>\n",
       "      <td>Bangalore</td>\n",
       "      <td>2012</td>\n",
       "      <td>33715</td>\n",
       "      <td>Diesel</td>\n",
       "      <td>Manual</td>\n",
       "      <td>First</td>\n",
       "      <td>16.46</td>\n",
       "      <td>1248.0</td>\n",
       "      <td>100.0</td>\n",
       "      <td>5.0</td>\n",
       "      <td>25.53</td>\n",
       "      <td>Maruti</td>\n",
       "    </tr>\n",
       "    <tr>\n",
       "      <th>1</th>\n",
       "      <td>Honda City 1.5 V AT</td>\n",
       "      <td>Delhi</td>\n",
       "      <td>2013</td>\n",
       "      <td>73977</td>\n",
       "      <td>Diesel</td>\n",
       "      <td>Manual</td>\n",
       "      <td>First</td>\n",
       "      <td>18.60</td>\n",
       "      <td>2993.0</td>\n",
       "      <td>61.0</td>\n",
       "      <td>4.0</td>\n",
       "      <td>4.58</td>\n",
       "      <td>Honda</td>\n",
       "    </tr>\n",
       "    <tr>\n",
       "      <th>2</th>\n",
       "      <td>Honda CR-V RVi MT</td>\n",
       "      <td>Delhi</td>\n",
       "      <td>2007</td>\n",
       "      <td>16460</td>\n",
       "      <td>CNG</td>\n",
       "      <td>Manual</td>\n",
       "      <td>Old car</td>\n",
       "      <td>15.30</td>\n",
       "      <td>1599.0</td>\n",
       "      <td>140.0</td>\n",
       "      <td>5.0</td>\n",
       "      <td>2.37</td>\n",
       "      <td>Honda</td>\n",
       "    </tr>\n",
       "    <tr>\n",
       "      <th>3</th>\n",
       "      <td>Skoda Yeti Ambition 4X2</td>\n",
       "      <td>Kolkata</td>\n",
       "      <td>2009</td>\n",
       "      <td>35048</td>\n",
       "      <td>Petrol</td>\n",
       "      <td>Manual</td>\n",
       "      <td>First</td>\n",
       "      <td>25.47</td>\n",
       "      <td>1196.0</td>\n",
       "      <td>86.8</td>\n",
       "      <td>5.0</td>\n",
       "      <td>1.20</td>\n",
       "      <td>Skoda</td>\n",
       "    </tr>\n",
       "    <tr>\n",
       "      <th>4</th>\n",
       "      <td>Hyundai i10 Magna LPG</td>\n",
       "      <td>Coimbatore</td>\n",
       "      <td>2013</td>\n",
       "      <td>41656</td>\n",
       "      <td>Petrol</td>\n",
       "      <td>Automatic</td>\n",
       "      <td>First</td>\n",
       "      <td>19.12</td>\n",
       "      <td>1999.0</td>\n",
       "      <td>115.0</td>\n",
       "      <td>7.0</td>\n",
       "      <td>33.04</td>\n",
       "      <td>Hyundai</td>\n",
       "    </tr>\n",
       "  </tbody>\n",
       "</table>\n",
       "</div>"
      ],
      "text/plain": [
       "                      Name    Location  Year  Kilometers_Driven Fuel_Type  \\\n",
       "0     Maruti 800 Std BSIII   Bangalore  2012              33715    Diesel   \n",
       "1      Honda City 1.5 V AT       Delhi  2013              73977    Diesel   \n",
       "2        Honda CR-V RVi MT       Delhi  2007              16460       CNG   \n",
       "3  Skoda Yeti Ambition 4X2     Kolkata  2009              35048    Petrol   \n",
       "4    Hyundai i10 Magna LPG  Coimbatore  2013              41656    Petrol   \n",
       "\n",
       "  Transmission Owner_Type  Mileage  Engine  Power  Seats  Price  Company  \n",
       "0       Manual      First    16.46  1248.0  100.0    5.0  25.53   Maruti  \n",
       "1       Manual      First    18.60  2993.0   61.0    4.0   4.58    Honda  \n",
       "2       Manual    Old car    15.30  1599.0  140.0    5.0   2.37    Honda  \n",
       "3       Manual      First    25.47  1196.0   86.8    5.0   1.20    Skoda  \n",
       "4    Automatic      First    19.12  1999.0  115.0    7.0  33.04  Hyundai  "
      ]
     },
     "execution_count": 54,
     "metadata": {},
     "output_type": "execute_result"
    }
   ],
   "source": [
    "combi.head(5)"
   ]
  },
  {
   "cell_type": "code",
   "execution_count": 55,
   "id": "f80be303",
   "metadata": {},
   "outputs": [
    {
     "data": {
      "text/plain": [
       "Name                  object\n",
       "Location              object\n",
       "Year                   int64\n",
       "Kilometers_Driven      int64\n",
       "Fuel_Type             object\n",
       "Transmission          object\n",
       "Owner_Type            object\n",
       "Mileage              float64\n",
       "Engine               float64\n",
       "Power                float64\n",
       "Seats                float64\n",
       "Price                float64\n",
       "Company               object\n",
       "dtype: object"
      ]
     },
     "execution_count": 55,
     "metadata": {},
     "output_type": "execute_result"
    }
   ],
   "source": [
    "combi.dtypes"
   ]
  },
  {
   "cell_type": "code",
   "execution_count": 56,
   "id": "da00e5a9",
   "metadata": {},
   "outputs": [],
   "source": [
    "combi['Year'] =combi['Year'].astype(object)\n",
    "combi['Seats'] =combi['Seats'].astype(object)"
   ]
  },
  {
   "cell_type": "code",
   "execution_count": 57,
   "id": "873d7610",
   "metadata": {},
   "outputs": [
    {
     "data": {
      "text/plain": [
       "Name                  object\n",
       "Location              object\n",
       "Year                  object\n",
       "Kilometers_Driven      int64\n",
       "Fuel_Type             object\n",
       "Transmission          object\n",
       "Owner_Type            object\n",
       "Mileage              float64\n",
       "Engine               float64\n",
       "Power                float64\n",
       "Seats                 object\n",
       "Price                float64\n",
       "Company               object\n",
       "dtype: object"
      ]
     },
     "execution_count": 57,
     "metadata": {},
     "output_type": "execute_result"
    }
   ],
   "source": [
    "combi.dtypes"
   ]
  },
  {
   "cell_type": "markdown",
   "id": "24be2f62",
   "metadata": {},
   "source": [
    "## Checking V_I_F Score...."
   ]
  },
  {
   "cell_type": "code",
   "execution_count": 58,
   "id": "ec6cc1db",
   "metadata": {},
   "outputs": [],
   "source": [
    "df_num = combi.select_dtypes(np.number)"
   ]
  },
  {
   "cell_type": "code",
   "execution_count": 60,
   "id": "c6760a6b",
   "metadata": {},
   "outputs": [],
   "source": [
    "df_num.drop(\"Price\" , axis=1 , inplace =True)"
   ]
  },
  {
   "cell_type": "code",
   "execution_count": 61,
   "id": "cd6a2ab5",
   "metadata": {},
   "outputs": [
    {
     "data": {
      "text/html": [
       "<div>\n",
       "<style scoped>\n",
       "    .dataframe tbody tr th:only-of-type {\n",
       "        vertical-align: middle;\n",
       "    }\n",
       "\n",
       "    .dataframe tbody tr th {\n",
       "        vertical-align: top;\n",
       "    }\n",
       "\n",
       "    .dataframe thead th {\n",
       "        text-align: right;\n",
       "    }\n",
       "</style>\n",
       "<table border=\"1\" class=\"dataframe\">\n",
       "  <thead>\n",
       "    <tr style=\"text-align: right;\">\n",
       "      <th></th>\n",
       "      <th>VIF_Factor</th>\n",
       "      <th>Features</th>\n",
       "    </tr>\n",
       "  </thead>\n",
       "  <tbody>\n",
       "    <tr>\n",
       "      <th>0</th>\n",
       "      <td>7.803847</td>\n",
       "      <td>Mileage</td>\n",
       "    </tr>\n",
       "    <tr>\n",
       "      <th>1</th>\n",
       "      <td>5.722866</td>\n",
       "      <td>Engine</td>\n",
       "    </tr>\n",
       "    <tr>\n",
       "      <th>2</th>\n",
       "      <td>4.712641</td>\n",
       "      <td>Kilometers_Driven</td>\n",
       "    </tr>\n",
       "    <tr>\n",
       "      <th>3</th>\n",
       "      <td>3.995132</td>\n",
       "      <td>Power</td>\n",
       "    </tr>\n",
       "  </tbody>\n",
       "</table>\n",
       "</div>"
      ],
      "text/plain": [
       "   VIF_Factor           Features\n",
       "0    7.803847            Mileage\n",
       "1    5.722866             Engine\n",
       "2    4.712641  Kilometers_Driven\n",
       "3    3.995132              Power"
      ]
     },
     "execution_count": 61,
     "metadata": {},
     "output_type": "execute_result"
    }
   ],
   "source": [
    "vif = pd.DataFrame()\n",
    "vif['VIF_Factor'] = [variance_inflation_factor(df_num.values,i) for i in range(df_num.shape[1])] \n",
    "vif['Features'] = df_num.columns\n",
    "vif.sort_values('VIF_Factor', ascending=False).reset_index(drop=True)"
   ]
  },
  {
   "cell_type": "code",
   "execution_count": 62,
   "id": "dab4b183",
   "metadata": {},
   "outputs": [
    {
     "data": {
      "text/plain": [
       "<AxesSubplot:>"
      ]
     },
     "execution_count": 62,
     "metadata": {},
     "output_type": "execute_result"
    },
    {
     "data": {
      "image/png": "[encoded data removed]",
      "text/plain": [
       "<Figure size 432x288 with 2 Axes>"
      ]
     },
     "metadata": {
      "needs_background": "light"
     },
     "output_type": "display_data"
    }
   ],
   "source": [
    "sns.heatmap(combi.corr() , annot =True)"
   ]
  },
  {
   "cell_type": "code",
   "execution_count": 63,
   "id": "e897f7af",
   "metadata": {},
   "outputs": [],
   "source": [
    "combi.drop(\"Name\" , axis=1 , inplace = True)"
   ]
  },
  {
   "cell_type": "code",
   "execution_count": 64,
   "id": "b8f55b7c",
   "metadata": {},
   "outputs": [
    {
     "data": {
      "text/plain": [
       "Location              object\n",
       "Year                  object\n",
       "Kilometers_Driven      int64\n",
       "Fuel_Type             object\n",
       "Transmission          object\n",
       "Owner_Type            object\n",
       "Mileage              float64\n",
       "Engine               float64\n",
       "Power                float64\n",
       "Seats                 object\n",
       "Price                float64\n",
       "Company               object\n",
       "dtype: object"
      ]
     },
     "execution_count": 64,
     "metadata": {},
     "output_type": "execute_result"
    }
   ],
   "source": [
    "combi.dtypes"
   ]
  },
  {
   "cell_type": "code",
   "execution_count": 65,
   "id": "a7f22fc9",
   "metadata": {},
   "outputs": [],
   "source": [
    "combi1= pd.get_dummies(combi , drop_first=True)"
   ]
  },
  {
   "cell_type": "code",
   "execution_count": 66,
   "id": "cf276098",
   "metadata": {},
   "outputs": [
    {
     "data": {
      "text/html": [
       "<div>\n",
       "<style scoped>\n",
       "    .dataframe tbody tr th:only-of-type {\n",
       "        vertical-align: middle;\n",
       "    }\n",
       "\n",
       "    .dataframe tbody tr th {\n",
       "        vertical-align: top;\n",
       "    }\n",
       "\n",
       "    .dataframe thead th {\n",
       "        text-align: right;\n",
       "    }\n",
       "</style>\n",
       "<table border=\"1\" class=\"dataframe\">\n",
       "  <thead>\n",
       "    <tr style=\"text-align: right;\">\n",
       "      <th></th>\n",
       "      <th>Location</th>\n",
       "      <th>Year</th>\n",
       "      <th>Kilometers_Driven</th>\n",
       "      <th>Fuel_Type</th>\n",
       "      <th>Transmission</th>\n",
       "      <th>Owner_Type</th>\n",
       "      <th>Mileage</th>\n",
       "      <th>Engine</th>\n",
       "      <th>Power</th>\n",
       "      <th>Seats</th>\n",
       "      <th>Price</th>\n",
       "      <th>Company</th>\n",
       "    </tr>\n",
       "  </thead>\n",
       "  <tbody>\n",
       "    <tr>\n",
       "      <th>0</th>\n",
       "      <td>Bangalore</td>\n",
       "      <td>2012</td>\n",
       "      <td>33715</td>\n",
       "      <td>Diesel</td>\n",
       "      <td>Manual</td>\n",
       "      <td>First</td>\n",
       "      <td>16.46</td>\n",
       "      <td>1248.0</td>\n",
       "      <td>100.0</td>\n",
       "      <td>5.0</td>\n",
       "      <td>25.53</td>\n",
       "      <td>Maruti</td>\n",
       "    </tr>\n",
       "    <tr>\n",
       "      <th>1</th>\n",
       "      <td>Delhi</td>\n",
       "      <td>2013</td>\n",
       "      <td>73977</td>\n",
       "      <td>Diesel</td>\n",
       "      <td>Manual</td>\n",
       "      <td>First</td>\n",
       "      <td>18.60</td>\n",
       "      <td>2993.0</td>\n",
       "      <td>61.0</td>\n",
       "      <td>4.0</td>\n",
       "      <td>4.58</td>\n",
       "      <td>Honda</td>\n",
       "    </tr>\n",
       "  </tbody>\n",
       "</table>\n",
       "</div>"
      ],
      "text/plain": [
       "    Location  Year  Kilometers_Driven Fuel_Type Transmission Owner_Type  \\\n",
       "0  Bangalore  2012              33715    Diesel       Manual      First   \n",
       "1      Delhi  2013              73977    Diesel       Manual      First   \n",
       "\n",
       "   Mileage  Engine  Power Seats  Price Company  \n",
       "0    16.46  1248.0  100.0   5.0  25.53  Maruti  \n",
       "1    18.60  2993.0   61.0   4.0   4.58   Honda  "
      ]
     },
     "execution_count": 66,
     "metadata": {},
     "output_type": "execute_result"
    }
   ],
   "source": [
    "combi.head(2)"
   ]
  },
  {
   "cell_type": "code",
   "execution_count": 67,
   "id": "ab5c70a8",
   "metadata": {},
   "outputs": [
    {
     "data": {
      "text/html": [
       "<div>\n",
       "<style scoped>\n",
       "    .dataframe tbody tr th:only-of-type {\n",
       "        vertical-align: middle;\n",
       "    }\n",
       "\n",
       "    .dataframe tbody tr th {\n",
       "        vertical-align: top;\n",
       "    }\n",
       "\n",
       "    .dataframe thead th {\n",
       "        text-align: right;\n",
       "    }\n",
       "</style>\n",
       "<table border=\"1\" class=\"dataframe\">\n",
       "  <thead>\n",
       "    <tr style=\"text-align: right;\">\n",
       "      <th></th>\n",
       "      <th>Kilometers_Driven</th>\n",
       "      <th>Mileage</th>\n",
       "      <th>Engine</th>\n",
       "      <th>Power</th>\n",
       "      <th>Price</th>\n",
       "      <th>Location_Bangalore</th>\n",
       "      <th>Location_Chennai</th>\n",
       "      <th>Location_Coimbatore</th>\n",
       "      <th>Location_Delhi</th>\n",
       "      <th>Location_Hyderabad</th>\n",
       "      <th>...</th>\n",
       "      <th>Company_Mini</th>\n",
       "      <th>Company_Mitsubishi</th>\n",
       "      <th>Company_Nissan</th>\n",
       "      <th>Company_Porsche</th>\n",
       "      <th>Company_Renault</th>\n",
       "      <th>Company_Skoda</th>\n",
       "      <th>Company_Tata</th>\n",
       "      <th>Company_Toyota</th>\n",
       "      <th>Company_Volkswagen</th>\n",
       "      <th>Company_Volvo</th>\n",
       "    </tr>\n",
       "  </thead>\n",
       "  <tbody>\n",
       "    <tr>\n",
       "      <th>0</th>\n",
       "      <td>33715</td>\n",
       "      <td>16.46</td>\n",
       "      <td>1248.0</td>\n",
       "      <td>100.0</td>\n",
       "      <td>25.53</td>\n",
       "      <td>1</td>\n",
       "      <td>0</td>\n",
       "      <td>0</td>\n",
       "      <td>0</td>\n",
       "      <td>0</td>\n",
       "      <td>...</td>\n",
       "      <td>0</td>\n",
       "      <td>0</td>\n",
       "      <td>0</td>\n",
       "      <td>0</td>\n",
       "      <td>0</td>\n",
       "      <td>0</td>\n",
       "      <td>0</td>\n",
       "      <td>0</td>\n",
       "      <td>0</td>\n",
       "      <td>0</td>\n",
       "    </tr>\n",
       "    <tr>\n",
       "      <th>1</th>\n",
       "      <td>73977</td>\n",
       "      <td>18.60</td>\n",
       "      <td>2993.0</td>\n",
       "      <td>61.0</td>\n",
       "      <td>4.58</td>\n",
       "      <td>0</td>\n",
       "      <td>0</td>\n",
       "      <td>0</td>\n",
       "      <td>1</td>\n",
       "      <td>0</td>\n",
       "      <td>...</td>\n",
       "      <td>0</td>\n",
       "      <td>0</td>\n",
       "      <td>0</td>\n",
       "      <td>0</td>\n",
       "      <td>0</td>\n",
       "      <td>0</td>\n",
       "      <td>0</td>\n",
       "      <td>0</td>\n",
       "      <td>0</td>\n",
       "      <td>0</td>\n",
       "    </tr>\n",
       "  </tbody>\n",
       "</table>\n",
       "<p>2 rows × 70 columns</p>\n",
       "</div>"
      ],
      "text/plain": [
       "   Kilometers_Driven  Mileage  Engine  Power  Price  Location_Bangalore  \\\n",
       "0              33715    16.46  1248.0  100.0  25.53                   1   \n",
       "1              73977    18.60  2993.0   61.0   4.58                   0   \n",
       "\n",
       "   Location_Chennai  Location_Coimbatore  Location_Delhi  Location_Hyderabad  \\\n",
       "0                 0                    0               0                   0   \n",
       "1                 0                    0               1                   0   \n",
       "\n",
       "   ...  Company_Mini  Company_Mitsubishi  Company_Nissan  Company_Porsche  \\\n",
       "0  ...             0                   0               0                0   \n",
       "1  ...             0                   0               0                0   \n",
       "\n",
       "   Company_Renault  Company_Skoda  Company_Tata  Company_Toyota  \\\n",
       "0                0              0             0               0   \n",
       "1                0              0             0               0   \n",
       "\n",
       "   Company_Volkswagen  Company_Volvo  \n",
       "0                   0              0  \n",
       "1                   0              0  \n",
       "\n",
       "[2 rows x 70 columns]"
      ]
     },
     "execution_count": 67,
     "metadata": {},
     "output_type": "execute_result"
    }
   ],
   "source": [
    "combi1.head(2)"
   ]
  },
  {
   "cell_type": "code",
   "execution_count": 68,
   "id": "be2af258",
   "metadata": {},
   "outputs": [
    {
     "data": {
      "text/plain": [
       "((22500, 70), (52500, 69), (22500, 13), (52500, 12))"
      ]
     },
     "execution_count": 68,
     "metadata": {},
     "output_type": "execute_result"
    }
   ],
   "source": [
    "newtrain = combi1.loc[0:train.shape[0]-1]\n",
    "newtest = combi1.loc[train.shape[0]:, ]\n",
    "newtest.drop(\"Price\" , axis=1 , inplace=True)\n",
    "newtrain.shape,newtest.shape,train.shape,test.shape"
   ]
  },
  {
   "cell_type": "code",
   "execution_count": 69,
   "id": "582bb026",
   "metadata": {},
   "outputs": [
    {
     "data": {
      "text/html": [
       "<table class=\"simpletable\">\n",
       "<caption>OLS Regression Results</caption>\n",
       "<tr>\n",
       "  <th>Dep. Variable:</th>          <td>Price</td>      <th>  R-squared:         </th> <td>   0.203</td> \n",
       "</tr>\n",
       "<tr>\n",
       "  <th>Model:</th>                   <td>OLS</td>       <th>  Adj. R-squared:    </th> <td>   0.201</td> \n",
       "</tr>\n",
       "<tr>\n",
       "  <th>Method:</th>             <td>Least Squares</td>  <th>  F-statistic:       </th> <td>   85.28</td> \n",
       "</tr>\n",
       "<tr>\n",
       "  <th>Date:</th>             <td>Sat, 02 Jul 2022</td> <th>  Prob (F-statistic):</th>  <td>  0.00</td>  \n",
       "</tr>\n",
       "<tr>\n",
       "  <th>Time:</th>                 <td>16:38:48</td>     <th>  Log-Likelihood:    </th> <td> -74109.</td> \n",
       "</tr>\n",
       "<tr>\n",
       "  <th>No. Observations:</th>      <td> 22500</td>      <th>  AIC:               </th> <td>1.484e+05</td>\n",
       "</tr>\n",
       "<tr>\n",
       "  <th>Df Residuals:</th>          <td> 22432</td>      <th>  BIC:               </th> <td>1.489e+05</td>\n",
       "</tr>\n",
       "<tr>\n",
       "  <th>Df Model:</th>              <td>    67</td>      <th>                     </th>     <td> </td>    \n",
       "</tr>\n",
       "<tr>\n",
       "  <th>Covariance Type:</th>      <td>nonrobust</td>    <th>                     </th>     <td> </td>    \n",
       "</tr>\n",
       "</table>\n",
       "<table class=\"simpletable\">\n",
       "<tr>\n",
       "            <td></td>               <th>coef</th>     <th>std err</th>      <th>t</th>      <th>P>|t|</th>  <th>[0.025</th>    <th>0.975]</th>  \n",
       "</tr>\n",
       "<tr>\n",
       "  <th>const</th>                 <td>    7.6724</td> <td>    0.597</td> <td>   12.859</td> <td> 0.000</td> <td>    6.503</td> <td>    8.842</td>\n",
       "</tr>\n",
       "<tr>\n",
       "  <th>Kilometers_Driven</th>     <td>-1.404e-05</td> <td> 2.14e-06</td> <td>   -6.561</td> <td> 0.000</td> <td>-1.82e-05</td> <td>-9.85e-06</td>\n",
       "</tr>\n",
       "<tr>\n",
       "  <th>Mileage</th>               <td>   -0.0404</td> <td>    0.009</td> <td>   -4.400</td> <td> 0.000</td> <td>   -0.058</td> <td>   -0.022</td>\n",
       "</tr>\n",
       "<tr>\n",
       "  <th>Engine</th>                <td>    0.0010</td> <td> 6.91e-05</td> <td>   14.330</td> <td> 0.000</td> <td>    0.001</td> <td>    0.001</td>\n",
       "</tr>\n",
       "<tr>\n",
       "  <th>Power</th>                 <td>    0.0061</td> <td>    0.001</td> <td>    8.683</td> <td> 0.000</td> <td>    0.005</td> <td>    0.007</td>\n",
       "</tr>\n",
       "<tr>\n",
       "  <th>Location_Bangalore</th>    <td>    0.0425</td> <td>    0.310</td> <td>    0.137</td> <td> 0.891</td> <td>   -0.565</td> <td>    0.650</td>\n",
       "</tr>\n",
       "<tr>\n",
       "  <th>Location_Chennai</th>      <td>   -0.0615</td> <td>    0.285</td> <td>   -0.216</td> <td> 0.829</td> <td>   -0.619</td> <td>    0.496</td>\n",
       "</tr>\n",
       "<tr>\n",
       "  <th>Location_Coimbatore</th>   <td>    0.8606</td> <td>    0.322</td> <td>    2.674</td> <td> 0.007</td> <td>    0.230</td> <td>    1.491</td>\n",
       "</tr>\n",
       "<tr>\n",
       "  <th>Location_Delhi</th>        <td>    1.3600</td> <td>    0.303</td> <td>    4.482</td> <td> 0.000</td> <td>    0.765</td> <td>    1.955</td>\n",
       "</tr>\n",
       "<tr>\n",
       "  <th>Location_Hyderabad</th>    <td>   -0.4281</td> <td>    0.273</td> <td>   -1.571</td> <td> 0.116</td> <td>   -0.962</td> <td>    0.106</td>\n",
       "</tr>\n",
       "<tr>\n",
       "  <th>Location_Jaipur</th>       <td>    0.6887</td> <td>    0.297</td> <td>    2.320</td> <td> 0.020</td> <td>    0.107</td> <td>    1.271</td>\n",
       "</tr>\n",
       "<tr>\n",
       "  <th>Location_Kochi</th>        <td>    0.0028</td> <td>    0.317</td> <td>    0.009</td> <td> 0.993</td> <td>   -0.618</td> <td>    0.624</td>\n",
       "</tr>\n",
       "<tr>\n",
       "  <th>Location_Kolkata</th>      <td>   -0.8629</td> <td>    0.275</td> <td>   -3.141</td> <td> 0.002</td> <td>   -1.401</td> <td>   -0.324</td>\n",
       "</tr>\n",
       "<tr>\n",
       "  <th>Location_Mumbai</th>       <td>   -0.2758</td> <td>    0.271</td> <td>   -1.019</td> <td> 0.308</td> <td>   -0.806</td> <td>    0.255</td>\n",
       "</tr>\n",
       "<tr>\n",
       "  <th>Location_Pune</th>         <td>    1.0177</td> <td>    0.325</td> <td>    3.130</td> <td> 0.002</td> <td>    0.380</td> <td>    1.655</td>\n",
       "</tr>\n",
       "<tr>\n",
       "  <th>Year_2001</th>             <td>   -0.1639</td> <td>    2.772</td> <td>   -0.059</td> <td> 0.953</td> <td>   -5.596</td> <td>    5.269</td>\n",
       "</tr>\n",
       "<tr>\n",
       "  <th>Year_2002</th>             <td>   -1.5022</td> <td>    1.126</td> <td>   -1.334</td> <td> 0.182</td> <td>   -3.710</td> <td>    0.705</td>\n",
       "</tr>\n",
       "<tr>\n",
       "  <th>Year_2003</th>             <td>    0.7315</td> <td>    0.653</td> <td>    1.121</td> <td> 0.262</td> <td>   -0.548</td> <td>    2.011</td>\n",
       "</tr>\n",
       "<tr>\n",
       "  <th>Year_2004</th>             <td>   -0.3633</td> <td>    0.572</td> <td>   -0.635</td> <td> 0.526</td> <td>   -1.485</td> <td>    0.759</td>\n",
       "</tr>\n",
       "<tr>\n",
       "  <th>Year_2005</th>             <td>    0.3642</td> <td>    0.593</td> <td>    0.614</td> <td> 0.539</td> <td>   -0.798</td> <td>    1.526</td>\n",
       "</tr>\n",
       "<tr>\n",
       "  <th>Year_2006</th>             <td>   -0.4223</td> <td>    0.399</td> <td>   -1.059</td> <td> 0.290</td> <td>   -1.204</td> <td>    0.359</td>\n",
       "</tr>\n",
       "<tr>\n",
       "  <th>Year_2007</th>             <td>   -0.3851</td> <td>    0.297</td> <td>   -1.296</td> <td> 0.195</td> <td>   -0.967</td> <td>    0.197</td>\n",
       "</tr>\n",
       "<tr>\n",
       "  <th>Year_2008</th>             <td>   -0.1090</td> <td>    0.403</td> <td>   -0.271</td> <td> 0.787</td> <td>   -0.899</td> <td>    0.681</td>\n",
       "</tr>\n",
       "<tr>\n",
       "  <th>Year_2009</th>             <td>    0.3853</td> <td>    0.223</td> <td>    1.728</td> <td> 0.084</td> <td>   -0.052</td> <td>    0.822</td>\n",
       "</tr>\n",
       "<tr>\n",
       "  <th>Year_2010</th>             <td>    0.5305</td> <td>    0.223</td> <td>    2.374</td> <td> 0.018</td> <td>    0.093</td> <td>    0.968</td>\n",
       "</tr>\n",
       "<tr>\n",
       "  <th>Year_2011</th>             <td>    1.2190</td> <td>    0.224</td> <td>    5.436</td> <td> 0.000</td> <td>    0.779</td> <td>    1.659</td>\n",
       "</tr>\n",
       "<tr>\n",
       "  <th>Year_2012</th>             <td>    0.8089</td> <td>    0.219</td> <td>    3.697</td> <td> 0.000</td> <td>    0.380</td> <td>    1.238</td>\n",
       "</tr>\n",
       "<tr>\n",
       "  <th>Year_2013</th>             <td>    0.4821</td> <td>    0.211</td> <td>    2.280</td> <td> 0.023</td> <td>    0.068</td> <td>    0.897</td>\n",
       "</tr>\n",
       "<tr>\n",
       "  <th>Year_2014</th>             <td>    0.7194</td> <td>    0.223</td> <td>    3.221</td> <td> 0.001</td> <td>    0.282</td> <td>    1.157</td>\n",
       "</tr>\n",
       "<tr>\n",
       "  <th>Year_2015</th>             <td>    0.6059</td> <td>    0.251</td> <td>    2.417</td> <td> 0.016</td> <td>    0.115</td> <td>    1.097</td>\n",
       "</tr>\n",
       "<tr>\n",
       "  <th>Year_2016</th>             <td>    0.5484</td> <td>    0.302</td> <td>    1.814</td> <td> 0.070</td> <td>   -0.044</td> <td>    1.141</td>\n",
       "</tr>\n",
       "<tr>\n",
       "  <th>Year_2017</th>             <td>    1.1448</td> <td>    0.280</td> <td>    4.091</td> <td> 0.000</td> <td>    0.596</td> <td>    1.693</td>\n",
       "</tr>\n",
       "<tr>\n",
       "  <th>Year_2018</th>             <td>    3.0781</td> <td>    0.684</td> <td>    4.499</td> <td> 0.000</td> <td>    1.737</td> <td>    4.419</td>\n",
       "</tr>\n",
       "<tr>\n",
       "  <th>Fuel_Type_Diesel</th>      <td>    2.8291</td> <td>    0.163</td> <td>   17.376</td> <td> 0.000</td> <td>    2.510</td> <td>    3.148</td>\n",
       "</tr>\n",
       "<tr>\n",
       "  <th>Fuel_Type_Electric</th>    <td>   -0.4041</td> <td>    1.753</td> <td>   -0.230</td> <td> 0.818</td> <td>   -3.841</td> <td>    3.032</td>\n",
       "</tr>\n",
       "<tr>\n",
       "  <th>Fuel_Type_Petrol</th>      <td>    0.1241</td> <td>    0.163</td> <td>    0.761</td> <td> 0.447</td> <td>   -0.195</td> <td>    0.444</td>\n",
       "</tr>\n",
       "<tr>\n",
       "  <th>Transmission_Manual</th>   <td>   -3.2963</td> <td>    0.117</td> <td>  -28.061</td> <td> 0.000</td> <td>   -3.527</td> <td>   -3.066</td>\n",
       "</tr>\n",
       "<tr>\n",
       "  <th>Owner_Type_Old car</th>    <td>   -1.0157</td> <td>    0.283</td> <td>   -3.592</td> <td> 0.000</td> <td>   -1.570</td> <td>   -0.461</td>\n",
       "</tr>\n",
       "<tr>\n",
       "  <th>Owner_Type_Second</th>     <td>   -0.1302</td> <td>    0.172</td> <td>   -0.757</td> <td> 0.449</td> <td>   -0.467</td> <td>    0.207</td>\n",
       "</tr>\n",
       "<tr>\n",
       "  <th>Seats_5.0</th>             <td>   -1.3538</td> <td>    0.419</td> <td>   -3.231</td> <td> 0.001</td> <td>   -2.175</td> <td>   -0.533</td>\n",
       "</tr>\n",
       "<tr>\n",
       "  <th>Seats_6.0</th>             <td>    0.1235</td> <td>    0.761</td> <td>    0.162</td> <td> 0.871</td> <td>   -1.369</td> <td>    1.616</td>\n",
       "</tr>\n",
       "<tr>\n",
       "  <th>Seats_7.0</th>             <td>    1.7524</td> <td>    0.434</td> <td>    4.038</td> <td> 0.000</td> <td>    0.902</td> <td>    2.603</td>\n",
       "</tr>\n",
       "<tr>\n",
       "  <th>Seats_8.0</th>             <td>    0.1156</td> <td>    0.479</td> <td>    0.241</td> <td> 0.809</td> <td>   -0.823</td> <td>    1.055</td>\n",
       "</tr>\n",
       "<tr>\n",
       "  <th>Company_BMW</th>           <td>   -0.2415</td> <td>    0.281</td> <td>   -0.859</td> <td> 0.390</td> <td>   -0.793</td> <td>    0.310</td>\n",
       "</tr>\n",
       "<tr>\n",
       "  <th>Company_Bentley</th>       <td> 3.288e-15</td> <td> 2.28e-15</td> <td>    1.440</td> <td> 0.150</td> <td>-1.19e-15</td> <td> 7.76e-15</td>\n",
       "</tr>\n",
       "<tr>\n",
       "  <th>Company_Chevrolet</th>     <td>   -0.6190</td> <td>    0.351</td> <td>   -1.766</td> <td> 0.077</td> <td>   -1.306</td> <td>    0.068</td>\n",
       "</tr>\n",
       "<tr>\n",
       "  <th>Company_Datsun</th>        <td>   -1.0431</td> <td>    0.762</td> <td>   -1.370</td> <td> 0.171</td> <td>   -2.536</td> <td>    0.450</td>\n",
       "</tr>\n",
       "<tr>\n",
       "  <th>Company_Fiat</th>          <td>   -0.6863</td> <td>    0.534</td> <td>   -1.285</td> <td> 0.199</td> <td>   -1.733</td> <td>    0.361</td>\n",
       "</tr>\n",
       "<tr>\n",
       "  <th>Company_Force</th>         <td>   -1.8374</td> <td>    1.759</td> <td>   -1.045</td> <td> 0.296</td> <td>   -5.284</td> <td>    1.609</td>\n",
       "</tr>\n",
       "<tr>\n",
       "  <th>Company_Ford</th>          <td>   -0.9921</td> <td>    0.288</td> <td>   -3.443</td> <td> 0.001</td> <td>   -1.557</td> <td>   -0.427</td>\n",
       "</tr>\n",
       "<tr>\n",
       "  <th>Company_Honda</th>         <td>   -0.5233</td> <td>    0.251</td> <td>   -2.088</td> <td> 0.037</td> <td>   -1.015</td> <td>   -0.032</td>\n",
       "</tr>\n",
       "<tr>\n",
       "  <th>Company_Hyundai</th>       <td>   -0.7250</td> <td>    0.231</td> <td>   -3.133</td> <td> 0.002</td> <td>   -1.179</td> <td>   -0.271</td>\n",
       "</tr>\n",
       "<tr>\n",
       "  <th>Company_ISUZU</th>         <td>   -4.3915</td> <td>    1.554</td> <td>   -2.827</td> <td> 0.005</td> <td>   -7.437</td> <td>   -1.346</td>\n",
       "</tr>\n",
       "<tr>\n",
       "  <th>Company_Isuzu</th>         <td>    2.7311</td> <td>    1.441</td> <td>    1.896</td> <td> 0.058</td> <td>   -0.093</td> <td>    5.555</td>\n",
       "</tr>\n",
       "<tr>\n",
       "  <th>Company_Jaguar</th>        <td>   -0.8616</td> <td>    0.561</td> <td>   -1.536</td> <td> 0.124</td> <td>   -1.961</td> <td>    0.238</td>\n",
       "</tr>\n",
       "<tr>\n",
       "  <th>Company_Jeep</th>          <td>   -0.1230</td> <td>    0.595</td> <td>   -0.207</td> <td> 0.836</td> <td>   -1.289</td> <td>    1.043</td>\n",
       "</tr>\n",
       "<tr>\n",
       "  <th>Company_Land</th>          <td>   -0.3099</td> <td>    0.438</td> <td>   -0.707</td> <td> 0.480</td> <td>   -1.169</td> <td>    0.549</td>\n",
       "</tr>\n",
       "<tr>\n",
       "  <th>Company_Mahindra</th>      <td>   -0.7363</td> <td>    0.324</td> <td>   -2.276</td> <td> 0.023</td> <td>   -1.371</td> <td>   -0.102</td>\n",
       "</tr>\n",
       "<tr>\n",
       "  <th>Company_Maruti</th>        <td>   -0.3929</td> <td>    0.227</td> <td>   -1.734</td> <td> 0.083</td> <td>   -0.837</td> <td>    0.051</td>\n",
       "</tr>\n",
       "<tr>\n",
       "  <th>Company_Mercedes-Benz</th> <td>   -0.3596</td> <td>    0.273</td> <td>   -1.318</td> <td> 0.188</td> <td>   -0.894</td> <td>    0.175</td>\n",
       "</tr>\n",
       "<tr>\n",
       "  <th>Company_Mini</th>          <td>   -1.2122</td> <td>    0.582</td> <td>   -2.082</td> <td> 0.037</td> <td>   -2.353</td> <td>   -0.071</td>\n",
       "</tr>\n",
       "<tr>\n",
       "  <th>Company_Mitsubishi</th>    <td>   -0.7666</td> <td>    0.597</td> <td>   -1.284</td> <td> 0.199</td> <td>   -1.937</td> <td>    0.404</td>\n",
       "</tr>\n",
       "<tr>\n",
       "  <th>Company_Nissan</th>        <td>   -0.8124</td> <td>    0.451</td> <td>   -1.800</td> <td> 0.072</td> <td>   -1.697</td> <td>    0.072</td>\n",
       "</tr>\n",
       "<tr>\n",
       "  <th>Company_Porsche</th>       <td>   -1.3005</td> <td>    0.848</td> <td>   -1.533</td> <td> 0.125</td> <td>   -2.964</td> <td>    0.363</td>\n",
       "</tr>\n",
       "<tr>\n",
       "  <th>Company_Renault</th>       <td>   -0.6799</td> <td>    0.343</td> <td>   -1.980</td> <td> 0.048</td> <td>   -1.353</td> <td>   -0.007</td>\n",
       "</tr>\n",
       "<tr>\n",
       "  <th>Company_Skoda</th>         <td>   -0.6126</td> <td>    0.343</td> <td>   -1.784</td> <td> 0.074</td> <td>   -1.286</td> <td>    0.060</td>\n",
       "</tr>\n",
       "<tr>\n",
       "  <th>Company_Tata</th>          <td>   -0.6745</td> <td>    0.329</td> <td>   -2.049</td> <td> 0.041</td> <td>   -1.320</td> <td>   -0.029</td>\n",
       "</tr>\n",
       "<tr>\n",
       "  <th>Company_Toyota</th>        <td>   -0.6505</td> <td>    0.255</td> <td>   -2.546</td> <td> 0.011</td> <td>   -1.151</td> <td>   -0.150</td>\n",
       "</tr>\n",
       "<tr>\n",
       "  <th>Company_Volkswagen</th>    <td>   -0.3330</td> <td>    0.286</td> <td>   -1.163</td> <td> 0.245</td> <td>   -0.894</td> <td>    0.228</td>\n",
       "</tr>\n",
       "<tr>\n",
       "  <th>Company_Volvo</th>         <td>    0.4741</td> <td>    0.727</td> <td>    0.652</td> <td> 0.514</td> <td>   -0.951</td> <td>    1.899</td>\n",
       "</tr>\n",
       "</table>\n",
       "<table class=\"simpletable\">\n",
       "<tr>\n",
       "  <th>Omnibus:</th>       <td>14097.670</td> <th>  Durbin-Watson:     </th>  <td>   2.014</td> \n",
       "</tr>\n",
       "<tr>\n",
       "  <th>Prob(Omnibus):</th>  <td> 0.000</td>   <th>  Jarque-Bera (JB):  </th> <td>183658.643</td>\n",
       "</tr>\n",
       "<tr>\n",
       "  <th>Skew:</th>           <td> 2.846</td>   <th>  Prob(JB):          </th>  <td>    0.00</td> \n",
       "</tr>\n",
       "<tr>\n",
       "  <th>Kurtosis:</th>       <td>15.787</td>   <th>  Cond. No.          </th>  <td>1.91e+16</td> \n",
       "</tr>\n",
       "</table><br/><br/>Notes:<br/>[1] Standard Errors assume that the covariance matrix of the errors is correctly specified.<br/>[2] The smallest eigenvalue is 1.78e-19. This might indicate that there are<br/>strong multicollinearity problems or that the design matrix is singular."
      ],
      "text/plain": [
       "<class 'statsmodels.iolib.summary.Summary'>\n",
       "\"\"\"\n",
       "                            OLS Regression Results                            \n",
       "==============================================================================\n",
       "Dep. Variable:                  Price   R-squared:                       0.203\n",
       "Model:                            OLS   Adj. R-squared:                  0.201\n",
       "Method:                 Least Squares   F-statistic:                     85.28\n",
       "Date:                Sat, 02 Jul 2022   Prob (F-statistic):               0.00\n",
       "Time:                        16:38:48   Log-Likelihood:                -74109.\n",
       "No. Observations:               22500   AIC:                         1.484e+05\n",
       "Df Residuals:                   22432   BIC:                         1.489e+05\n",
       "Df Model:                          67                                         \n",
       "Covariance Type:            nonrobust                                         \n",
       "=========================================================================================\n",
       "                            coef    std err          t      P>|t|      [0.025      0.975]\n",
       "-----------------------------------------------------------------------------------------\n",
       "const                     7.6724      0.597     12.859      0.000       6.503       8.842\n",
       "Kilometers_Driven     -1.404e-05   2.14e-06     -6.561      0.000   -1.82e-05   -9.85e-06\n",
       "Mileage                  -0.0404      0.009     -4.400      0.000      -0.058      -0.022\n",
       "Engine                    0.0010   6.91e-05     14.330      0.000       0.001       0.001\n",
       "Power                     0.0061      0.001      8.683      0.000       0.005       0.007\n",
       "Location_Bangalore        0.0425      0.310      0.137      0.891      -0.565       0.650\n",
       "Location_Chennai         -0.0615      0.285     -0.216      0.829      -0.619       0.496\n",
       "Location_Coimbatore       0.8606      0.322      2.674      0.007       0.230       1.491\n",
       "Location_Delhi            1.3600      0.303      4.482      0.000       0.765       1.955\n",
       "Location_Hyderabad       -0.4281      0.273     -1.571      0.116      -0.962       0.106\n",
       "Location_Jaipur           0.6887      0.297      2.320      0.020       0.107       1.271\n",
       "Location_Kochi            0.0028      0.317      0.009      0.993      -0.618       0.624\n",
       "Location_Kolkata         -0.8629      0.275     -3.141      0.002      -1.401      -0.324\n",
       "Location_Mumbai          -0.2758      0.271     -1.019      0.308      -0.806       0.255\n",
       "Location_Pune             1.0177      0.325      3.130      0.002       0.380       1.655\n",
       "Year_2001                -0.1639      2.772     -0.059      0.953      -5.596       5.269\n",
       "Year_2002                -1.5022      1.126     -1.334      0.182      -3.710       0.705\n",
       "Year_2003                 0.7315      0.653      1.121      0.262      -0.548       2.011\n",
       "Year_2004                -0.3633      0.572     -0.635      0.526      -1.485       0.759\n",
       "Year_2005                 0.3642      0.593      0.614      0.539      -0.798       1.526\n",
       "Year_2006                -0.4223      0.399     -1.059      0.290      -1.204       0.359\n",
       "Year_2007                -0.3851      0.297     -1.296      0.195      -0.967       0.197\n",
       "Year_2008                -0.1090      0.403     -0.271      0.787      -0.899       0.681\n",
       "Year_2009                 0.3853      0.223      1.728      0.084      -0.052       0.822\n",
       "Year_2010                 0.5305      0.223      2.374      0.018       0.093       0.968\n",
       "Year_2011                 1.2190      0.224      5.436      0.000       0.779       1.659\n",
       "Year_2012                 0.8089      0.219      3.697      0.000       0.380       1.238\n",
       "Year_2013                 0.4821      0.211      2.280      0.023       0.068       0.897\n",
       "Year_2014                 0.7194      0.223      3.221      0.001       0.282       1.157\n",
       "Year_2015                 0.6059      0.251      2.417      0.016       0.115       1.097\n",
       "Year_2016                 0.5484      0.302      1.814      0.070      -0.044       1.141\n",
       "Year_2017                 1.1448      0.280      4.091      0.000       0.596       1.693\n",
       "Year_2018                 3.0781      0.684      4.499      0.000       1.737       4.419\n",
       "Fuel_Type_Diesel          2.8291      0.163     17.376      0.000       2.510       3.148\n",
       "Fuel_Type_Electric       -0.4041      1.753     -0.230      0.818      -3.841       3.032\n",
       "Fuel_Type_Petrol          0.1241      0.163      0.761      0.447      -0.195       0.444\n",
       "Transmission_Manual      -3.2963      0.117    -28.061      0.000      -3.527      -3.066\n",
       "Owner_Type_Old car       -1.0157      0.283     -3.592      0.000      -1.570      -0.461\n",
       "Owner_Type_Second        -0.1302      0.172     -0.757      0.449      -0.467       0.207\n",
       "Seats_5.0                -1.3538      0.419     -3.231      0.001      -2.175      -0.533\n",
       "Seats_6.0                 0.1235      0.761      0.162      0.871      -1.369       1.616\n",
       "Seats_7.0                 1.7524      0.434      4.038      0.000       0.902       2.603\n",
       "Seats_8.0                 0.1156      0.479      0.241      0.809      -0.823       1.055\n",
       "Company_BMW              -0.2415      0.281     -0.859      0.390      -0.793       0.310\n",
       "Company_Bentley        3.288e-15   2.28e-15      1.440      0.150   -1.19e-15    7.76e-15\n",
       "Company_Chevrolet        -0.6190      0.351     -1.766      0.077      -1.306       0.068\n",
       "Company_Datsun           -1.0431      0.762     -1.370      0.171      -2.536       0.450\n",
       "Company_Fiat             -0.6863      0.534     -1.285      0.199      -1.733       0.361\n",
       "Company_Force            -1.8374      1.759     -1.045      0.296      -5.284       1.609\n",
       "Company_Ford             -0.9921      0.288     -3.443      0.001      -1.557      -0.427\n",
       "Company_Honda            -0.5233      0.251     -2.088      0.037      -1.015      -0.032\n",
       "Company_Hyundai          -0.7250      0.231     -3.133      0.002      -1.179      -0.271\n",
       "Company_ISUZU            -4.3915      1.554     -2.827      0.005      -7.437      -1.346\n",
       "Company_Isuzu             2.7311      1.441      1.896      0.058      -0.093       5.555\n",
       "Company_Jaguar           -0.8616      0.561     -1.536      0.124      -1.961       0.238\n",
       "Company_Jeep             -0.1230      0.595     -0.207      0.836      -1.289       1.043\n",
       "Company_Land             -0.3099      0.438     -0.707      0.480      -1.169       0.549\n",
       "Company_Mahindra         -0.7363      0.324     -2.276      0.023      -1.371      -0.102\n",
       "Company_Maruti           -0.3929      0.227     -1.734      0.083      -0.837       0.051\n",
       "Company_Mercedes-Benz    -0.3596      0.273     -1.318      0.188      -0.894       0.175\n",
       "Company_Mini             -1.2122      0.582     -2.082      0.037      -2.353      -0.071\n",
       "Company_Mitsubishi       -0.7666      0.597     -1.284      0.199      -1.937       0.404\n",
       "Company_Nissan           -0.8124      0.451     -1.800      0.072      -1.697       0.072\n",
       "Company_Porsche          -1.3005      0.848     -1.533      0.125      -2.964       0.363\n",
       "Company_Renault          -0.6799      0.343     -1.980      0.048      -1.353      -0.007\n",
       "Company_Skoda            -0.6126      0.343     -1.784      0.074      -1.286       0.060\n",
       "Company_Tata             -0.6745      0.329     -2.049      0.041      -1.320      -0.029\n",
       "Company_Toyota           -0.6505      0.255     -2.546      0.011      -1.151      -0.150\n",
       "Company_Volkswagen       -0.3330      0.286     -1.163      0.245      -0.894       0.228\n",
       "Company_Volvo             0.4741      0.727      0.652      0.514      -0.951       1.899\n",
       "==============================================================================\n",
       "Omnibus:                    14097.670   Durbin-Watson:                   2.014\n",
       "Prob(Omnibus):                  0.000   Jarque-Bera (JB):           183658.643\n",
       "Skew:                           2.846   Prob(JB):                         0.00\n",
       "Kurtosis:                      15.787   Cond. No.                     1.91e+16\n",
       "==============================================================================\n",
       "\n",
       "Notes:\n",
       "[1] Standard Errors assume that the covariance matrix of the errors is correctly specified.\n",
       "[2] The smallest eigenvalue is 1.78e-19. This might indicate that there are\n",
       "strong multicollinearity problems or that the design matrix is singular.\n",
       "\"\"\""
      ]
     },
     "execution_count": 69,
     "metadata": {},
     "output_type": "execute_result"
    }
   ],
   "source": [
    "x1 = newtrain.drop(\"Price\" , axis =1 )\n",
    "y1= newtrain[\"Price\"]\n",
    "x2= sm.add_constant(x1)\n",
    "rf = sm.OLS(y1 ,x2).fit()\n",
    "rf.summary()"
   ]
  },
  {
   "cell_type": "code",
   "execution_count": null,
   "id": "b1fcbea5",
   "metadata": {},
   "outputs": [],
   "source": []
  },
  {
   "cell_type": "markdown",
   "id": "077c20e2",
   "metadata": {},
   "source": [
    "### checking P_values < 0.05 for significant features.."
   ]
  },
  {
   "cell_type": "code",
   "execution_count": 74,
   "id": "19f2f014",
   "metadata": {},
   "outputs": [],
   "source": [
    "pvalue=rf.pvalues\n",
    "pval=pd.DataFrame(pvalue)\n",
    "signi=pval[pval[0]<0.05].index"
   ]
  },
  {
   "cell_type": "code",
   "execution_count": 75,
   "id": "59a65ef1",
   "metadata": {},
   "outputs": [
    {
     "data": {
      "text/plain": [
       "Index(['const', 'Kilometers_Driven', 'Mileage', 'Engine', 'Power',\n",
       "       'Location_Coimbatore', 'Location_Delhi', 'Location_Jaipur',\n",
       "       'Location_Kolkata', 'Location_Pune', 'Year_2010', 'Year_2011',\n",
       "       'Year_2012', 'Year_2013', 'Year_2014', 'Year_2015', 'Year_2017',\n",
       "       'Year_2018', 'Fuel_Type_Diesel', 'Transmission_Manual',\n",
       "       'Owner_Type_Old car', 'Seats_5.0', 'Seats_7.0', 'Company_Ford',\n",
       "       'Company_Honda', 'Company_Hyundai', 'Company_ISUZU', 'Company_Mahindra',\n",
       "       'Company_Mini', 'Company_Renault', 'Company_Tata', 'Company_Toyota'],\n",
       "      dtype='object')"
      ]
     },
     "execution_count": 75,
     "metadata": {},
     "output_type": "execute_result"
    }
   ],
   "source": [
    "signi"
   ]
  },
  {
   "cell_type": "code",
   "execution_count": null,
   "id": "c3ae7748",
   "metadata": {},
   "outputs": [],
   "source": []
  },
  {
   "cell_type": "markdown",
   "id": "f91ca3e3",
   "metadata": {},
   "source": [
    "### O.L.S Model with Significant Features..\n"
   ]
  },
  {
   "cell_type": "code",
   "execution_count": 83,
   "id": "825fa4c5",
   "metadata": {},
   "outputs": [],
   "source": [
    "signi = newtrain[['Kilometers_Driven', 'Mileage', 'Engine', 'Power',\n",
    "       'Location_Coimbatore', 'Location_Delhi', 'Location_Jaipur',\n",
    "       'Location_Kolkata', 'Location_Pune', 'Year_2010', 'Year_2011',\n",
    "       'Year_2012', 'Year_2013', 'Year_2014', 'Year_2015', 'Year_2017',\n",
    "       'Year_2018', 'Fuel_Type_Diesel', 'Transmission_Manual',\n",
    "       'Owner_Type_Old car', 'Seats_5.0', 'Seats_7.0', 'Company_Ford',\n",
    "       'Company_Honda', 'Company_Hyundai', 'Company_ISUZU', 'Company_Mahindra',\n",
    "       'Company_Mini', 'Company_Renault', 'Company_Tata', 'Company_Toyota']]"
   ]
  },
  {
   "cell_type": "code",
   "execution_count": 84,
   "id": "c46fbdfa",
   "metadata": {},
   "outputs": [
    {
     "data": {
      "text/plain": [
       "(22500, 31)"
      ]
     },
     "execution_count": 84,
     "metadata": {},
     "output_type": "execute_result"
    }
   ],
   "source": [
    "signi.shape"
   ]
  },
  {
   "cell_type": "code",
   "execution_count": null,
   "id": "a8321096",
   "metadata": {},
   "outputs": [],
   "source": []
  },
  {
   "cell_type": "code",
   "execution_count": 85,
   "id": "8669fc53",
   "metadata": {},
   "outputs": [
    {
     "data": {
      "text/html": [
       "<table class=\"simpletable\">\n",
       "<caption>OLS Regression Results</caption>\n",
       "<tr>\n",
       "  <th>Dep. Variable:</th>          <td>Price</td>      <th>  R-squared:         </th> <td>   0.201</td> \n",
       "</tr>\n",
       "<tr>\n",
       "  <th>Model:</th>                   <td>OLS</td>       <th>  Adj. R-squared:    </th> <td>   0.200</td> \n",
       "</tr>\n",
       "<tr>\n",
       "  <th>Method:</th>             <td>Least Squares</td>  <th>  F-statistic:       </th> <td>   182.7</td> \n",
       "</tr>\n",
       "<tr>\n",
       "  <th>Date:</th>             <td>Sat, 02 Jul 2022</td> <th>  Prob (F-statistic):</th>  <td>  0.00</td>  \n",
       "</tr>\n",
       "<tr>\n",
       "  <th>Time:</th>                 <td>17:05:05</td>     <th>  Log-Likelihood:    </th> <td> -74132.</td> \n",
       "</tr>\n",
       "<tr>\n",
       "  <th>No. Observations:</th>      <td> 22500</td>      <th>  AIC:               </th> <td>1.483e+05</td>\n",
       "</tr>\n",
       "<tr>\n",
       "  <th>Df Residuals:</th>          <td> 22468</td>      <th>  BIC:               </th> <td>1.486e+05</td>\n",
       "</tr>\n",
       "<tr>\n",
       "  <th>Df Model:</th>              <td>    31</td>      <th>                     </th>     <td> </td>    \n",
       "</tr>\n",
       "<tr>\n",
       "  <th>Covariance Type:</th>      <td>nonrobust</td>    <th>                     </th>     <td> </td>    \n",
       "</tr>\n",
       "</table>\n",
       "<table class=\"simpletable\">\n",
       "<tr>\n",
       "           <td></td>              <th>coef</th>     <th>std err</th>      <th>t</th>      <th>P>|t|</th>  <th>[0.025</th>    <th>0.975]</th>  \n",
       "</tr>\n",
       "<tr>\n",
       "  <th>const</th>               <td>    7.4815</td> <td>    0.349</td> <td>   21.414</td> <td> 0.000</td> <td>    6.797</td> <td>    8.166</td>\n",
       "</tr>\n",
       "<tr>\n",
       "  <th>Kilometers_Driven</th>   <td>-1.554e-05</td> <td> 2.08e-06</td> <td>   -7.472</td> <td> 0.000</td> <td>-1.96e-05</td> <td>-1.15e-05</td>\n",
       "</tr>\n",
       "<tr>\n",
       "  <th>Mileage</th>             <td>   -0.0395</td> <td>    0.009</td> <td>   -4.313</td> <td> 0.000</td> <td>   -0.057</td> <td>   -0.022</td>\n",
       "</tr>\n",
       "<tr>\n",
       "  <th>Engine</th>              <td>    0.0010</td> <td> 6.86e-05</td> <td>   14.615</td> <td> 0.000</td> <td>    0.001</td> <td>    0.001</td>\n",
       "</tr>\n",
       "<tr>\n",
       "  <th>Power</th>               <td>    0.0062</td> <td>    0.001</td> <td>    8.944</td> <td> 0.000</td> <td>    0.005</td> <td>    0.008</td>\n",
       "</tr>\n",
       "<tr>\n",
       "  <th>Location_Coimbatore</th> <td>    1.0809</td> <td>    0.212</td> <td>    5.105</td> <td> 0.000</td> <td>    0.666</td> <td>    1.496</td>\n",
       "</tr>\n",
       "<tr>\n",
       "  <th>Location_Delhi</th>      <td>    1.5711</td> <td>    0.181</td> <td>    8.665</td> <td> 0.000</td> <td>    1.216</td> <td>    1.926</td>\n",
       "</tr>\n",
       "<tr>\n",
       "  <th>Location_Jaipur</th>     <td>    0.9022</td> <td>    0.169</td> <td>    5.327</td> <td> 0.000</td> <td>    0.570</td> <td>    1.234</td>\n",
       "</tr>\n",
       "<tr>\n",
       "  <th>Location_Kolkata</th>    <td>   -0.6425</td> <td>    0.125</td> <td>   -5.139</td> <td> 0.000</td> <td>   -0.888</td> <td>   -0.397</td>\n",
       "</tr>\n",
       "<tr>\n",
       "  <th>Location_Pune</th>       <td>    1.2279</td> <td>    0.214</td> <td>    5.744</td> <td> 0.000</td> <td>    0.809</td> <td>    1.647</td>\n",
       "</tr>\n",
       "<tr>\n",
       "  <th>Year_2010</th>           <td>    0.3379</td> <td>    0.159</td> <td>    2.122</td> <td> 0.034</td> <td>    0.026</td> <td>    0.650</td>\n",
       "</tr>\n",
       "<tr>\n",
       "  <th>Year_2011</th>           <td>    1.0272</td> <td>    0.161</td> <td>    6.384</td> <td> 0.000</td> <td>    0.712</td> <td>    1.343</td>\n",
       "</tr>\n",
       "<tr>\n",
       "  <th>Year_2012</th>           <td>    0.6230</td> <td>    0.152</td> <td>    4.090</td> <td> 0.000</td> <td>    0.324</td> <td>    0.922</td>\n",
       "</tr>\n",
       "<tr>\n",
       "  <th>Year_2013</th>           <td>    0.2967</td> <td>    0.140</td> <td>    2.118</td> <td> 0.034</td> <td>    0.022</td> <td>    0.571</td>\n",
       "</tr>\n",
       "<tr>\n",
       "  <th>Year_2014</th>           <td>    0.5193</td> <td>    0.159</td> <td>    3.262</td> <td> 0.001</td> <td>    0.207</td> <td>    0.831</td>\n",
       "</tr>\n",
       "<tr>\n",
       "  <th>Year_2015</th>           <td>    0.4186</td> <td>    0.200</td> <td>    2.088</td> <td> 0.037</td> <td>    0.026</td> <td>    0.812</td>\n",
       "</tr>\n",
       "<tr>\n",
       "  <th>Year_2017</th>           <td>    0.9618</td> <td>    0.240</td> <td>    4.012</td> <td> 0.000</td> <td>    0.492</td> <td>    1.432</td>\n",
       "</tr>\n",
       "<tr>\n",
       "  <th>Year_2018</th>           <td>    2.8820</td> <td>    0.702</td> <td>    4.105</td> <td> 0.000</td> <td>    1.506</td> <td>    4.258</td>\n",
       "</tr>\n",
       "<tr>\n",
       "  <th>Fuel_Type_Diesel</th>    <td>    2.7564</td> <td>    0.096</td> <td>   28.664</td> <td> 0.000</td> <td>    2.568</td> <td>    2.945</td>\n",
       "</tr>\n",
       "<tr>\n",
       "  <th>Transmission_Manual</th> <td>   -3.3398</td> <td>    0.117</td> <td>  -28.655</td> <td> 0.000</td> <td>   -3.568</td> <td>   -3.111</td>\n",
       "</tr>\n",
       "<tr>\n",
       "  <th>Owner_Type_Old car</th>  <td>   -1.0969</td> <td>    0.278</td> <td>   -3.952</td> <td> 0.000</td> <td>   -1.641</td> <td>   -0.553</td>\n",
       "</tr>\n",
       "<tr>\n",
       "  <th>Seats_5.0</th>           <td>   -1.4321</td> <td>    0.203</td> <td>   -7.045</td> <td> 0.000</td> <td>   -1.831</td> <td>   -1.034</td>\n",
       "</tr>\n",
       "<tr>\n",
       "  <th>Seats_7.0</th>           <td>    1.6868</td> <td>    0.232</td> <td>    7.262</td> <td> 0.000</td> <td>    1.232</td> <td>    2.142</td>\n",
       "</tr>\n",
       "<tr>\n",
       "  <th>Company_Ford</th>        <td>   -0.6230</td> <td>    0.211</td> <td>   -2.956</td> <td> 0.003</td> <td>   -1.036</td> <td>   -0.210</td>\n",
       "</tr>\n",
       "<tr>\n",
       "  <th>Company_Honda</th>       <td>   -0.1374</td> <td>    0.156</td> <td>   -0.881</td> <td> 0.379</td> <td>   -0.443</td> <td>    0.168</td>\n",
       "</tr>\n",
       "<tr>\n",
       "  <th>Company_Hyundai</th>     <td>   -0.3547</td> <td>    0.123</td> <td>   -2.892</td> <td> 0.004</td> <td>   -0.595</td> <td>   -0.114</td>\n",
       "</tr>\n",
       "<tr>\n",
       "  <th>Company_ISUZU</th>       <td>   -4.0554</td> <td>    1.541</td> <td>   -2.631</td> <td> 0.009</td> <td>   -7.077</td> <td>   -1.034</td>\n",
       "</tr>\n",
       "<tr>\n",
       "  <th>Company_Mahindra</th>    <td>   -0.3503</td> <td>    0.257</td> <td>   -1.362</td> <td> 0.173</td> <td>   -0.855</td> <td>    0.154</td>\n",
       "</tr>\n",
       "<tr>\n",
       "  <th>Company_Mini</th>        <td>   -0.8322</td> <td>    0.548</td> <td>   -1.519</td> <td> 0.129</td> <td>   -1.906</td> <td>    0.242</td>\n",
       "</tr>\n",
       "<tr>\n",
       "  <th>Company_Renault</th>     <td>   -0.3160</td> <td>    0.282</td> <td>   -1.122</td> <td> 0.262</td> <td>   -0.868</td> <td>    0.236</td>\n",
       "</tr>\n",
       "<tr>\n",
       "  <th>Company_Tata</th>        <td>   -0.3039</td> <td>    0.264</td> <td>   -1.151</td> <td> 0.250</td> <td>   -0.822</td> <td>    0.214</td>\n",
       "</tr>\n",
       "<tr>\n",
       "  <th>Company_Toyota</th>      <td>   -0.2776</td> <td>    0.164</td> <td>   -1.698</td> <td> 0.090</td> <td>   -0.598</td> <td>    0.043</td>\n",
       "</tr>\n",
       "</table>\n",
       "<table class=\"simpletable\">\n",
       "<tr>\n",
       "  <th>Omnibus:</th>       <td>14091.191</td> <th>  Durbin-Watson:     </th>  <td>   2.013</td> \n",
       "</tr>\n",
       "<tr>\n",
       "  <th>Prob(Omnibus):</th>  <td> 0.000</td>   <th>  Jarque-Bera (JB):  </th> <td>183069.309</td>\n",
       "</tr>\n",
       "<tr>\n",
       "  <th>Skew:</th>           <td> 2.846</td>   <th>  Prob(JB):          </th>  <td>    0.00</td> \n",
       "</tr>\n",
       "<tr>\n",
       "  <th>Kurtosis:</th>       <td>15.763</td>   <th>  Cond. No.          </th>  <td>1.90e+06</td> \n",
       "</tr>\n",
       "</table><br/><br/>Notes:<br/>[1] Standard Errors assume that the covariance matrix of the errors is correctly specified.<br/>[2] The condition number is large, 1.9e+06. This might indicate that there are<br/>strong multicollinearity or other numerical problems."
      ],
      "text/plain": [
       "<class 'statsmodels.iolib.summary.Summary'>\n",
       "\"\"\"\n",
       "                            OLS Regression Results                            \n",
       "==============================================================================\n",
       "Dep. Variable:                  Price   R-squared:                       0.201\n",
       "Model:                            OLS   Adj. R-squared:                  0.200\n",
       "Method:                 Least Squares   F-statistic:                     182.7\n",
       "Date:                Sat, 02 Jul 2022   Prob (F-statistic):               0.00\n",
       "Time:                        17:05:05   Log-Likelihood:                -74132.\n",
       "No. Observations:               22500   AIC:                         1.483e+05\n",
       "Df Residuals:                   22468   BIC:                         1.486e+05\n",
       "Df Model:                          31                                         \n",
       "Covariance Type:            nonrobust                                         \n",
       "=======================================================================================\n",
       "                          coef    std err          t      P>|t|      [0.025      0.975]\n",
       "---------------------------------------------------------------------------------------\n",
       "const                   7.4815      0.349     21.414      0.000       6.797       8.166\n",
       "Kilometers_Driven   -1.554e-05   2.08e-06     -7.472      0.000   -1.96e-05   -1.15e-05\n",
       "Mileage                -0.0395      0.009     -4.313      0.000      -0.057      -0.022\n",
       "Engine                  0.0010   6.86e-05     14.615      0.000       0.001       0.001\n",
       "Power                   0.0062      0.001      8.944      0.000       0.005       0.008\n",
       "Location_Coimbatore     1.0809      0.212      5.105      0.000       0.666       1.496\n",
       "Location_Delhi          1.5711      0.181      8.665      0.000       1.216       1.926\n",
       "Location_Jaipur         0.9022      0.169      5.327      0.000       0.570       1.234\n",
       "Location_Kolkata       -0.6425      0.125     -5.139      0.000      -0.888      -0.397\n",
       "Location_Pune           1.2279      0.214      5.744      0.000       0.809       1.647\n",
       "Year_2010               0.3379      0.159      2.122      0.034       0.026       0.650\n",
       "Year_2011               1.0272      0.161      6.384      0.000       0.712       1.343\n",
       "Year_2012               0.6230      0.152      4.090      0.000       0.324       0.922\n",
       "Year_2013               0.2967      0.140      2.118      0.034       0.022       0.571\n",
       "Year_2014               0.5193      0.159      3.262      0.001       0.207       0.831\n",
       "Year_2015               0.4186      0.200      2.088      0.037       0.026       0.812\n",
       "Year_2017               0.9618      0.240      4.012      0.000       0.492       1.432\n",
       "Year_2018               2.8820      0.702      4.105      0.000       1.506       4.258\n",
       "Fuel_Type_Diesel        2.7564      0.096     28.664      0.000       2.568       2.945\n",
       "Transmission_Manual    -3.3398      0.117    -28.655      0.000      -3.568      -3.111\n",
       "Owner_Type_Old car     -1.0969      0.278     -3.952      0.000      -1.641      -0.553\n",
       "Seats_5.0              -1.4321      0.203     -7.045      0.000      -1.831      -1.034\n",
       "Seats_7.0               1.6868      0.232      7.262      0.000       1.232       2.142\n",
       "Company_Ford           -0.6230      0.211     -2.956      0.003      -1.036      -0.210\n",
       "Company_Honda          -0.1374      0.156     -0.881      0.379      -0.443       0.168\n",
       "Company_Hyundai        -0.3547      0.123     -2.892      0.004      -0.595      -0.114\n",
       "Company_ISUZU          -4.0554      1.541     -2.631      0.009      -7.077      -1.034\n",
       "Company_Mahindra       -0.3503      0.257     -1.362      0.173      -0.855       0.154\n",
       "Company_Mini           -0.8322      0.548     -1.519      0.129      -1.906       0.242\n",
       "Company_Renault        -0.3160      0.282     -1.122      0.262      -0.868       0.236\n",
       "Company_Tata           -0.3039      0.264     -1.151      0.250      -0.822       0.214\n",
       "Company_Toyota         -0.2776      0.164     -1.698      0.090      -0.598       0.043\n",
       "==============================================================================\n",
       "Omnibus:                    14091.191   Durbin-Watson:                   2.013\n",
       "Prob(Omnibus):                  0.000   Jarque-Bera (JB):           183069.309\n",
       "Skew:                           2.846   Prob(JB):                         0.00\n",
       "Kurtosis:                      15.763   Cond. No.                     1.90e+06\n",
       "==============================================================================\n",
       "\n",
       "Notes:\n",
       "[1] Standard Errors assume that the covariance matrix of the errors is correctly specified.\n",
       "[2] The condition number is large, 1.9e+06. This might indicate that there are\n",
       "strong multicollinearity or other numerical problems.\n",
       "\"\"\""
      ]
     },
     "execution_count": 85,
     "metadata": {},
     "output_type": "execute_result"
    }
   ],
   "source": [
    "\n",
    "y1= newtrain[\"Price\"]\n",
    "x2= sm.add_constant(signi)\n",
    "rf1 = sm.OLS(y1 ,x2).fit()\n",
    "rf1.summary()"
   ]
  },
  {
   "cell_type": "code",
   "execution_count": 86,
   "id": "bd142080",
   "metadata": {},
   "outputs": [
    {
     "data": {
      "text/plain": [
       "Index(['const', 'Kilometers_Driven', 'Mileage', 'Engine', 'Power',\n",
       "       'Location_Coimbatore', 'Location_Delhi', 'Location_Jaipur',\n",
       "       'Location_Kolkata', 'Location_Pune', 'Year_2010', 'Year_2011',\n",
       "       'Year_2012', 'Year_2013', 'Year_2014', 'Year_2015', 'Year_2017',\n",
       "       'Year_2018', 'Fuel_Type_Diesel', 'Transmission_Manual',\n",
       "       'Owner_Type_Old car', 'Seats_5.0', 'Seats_7.0', 'Company_Ford',\n",
       "       'Company_Hyundai', 'Company_ISUZU'],\n",
       "      dtype='object')"
      ]
     },
     "execution_count": 86,
     "metadata": {},
     "output_type": "execute_result"
    }
   ],
   "source": [
    "pvalue=rf1.pvalues\n",
    "pval=pd.DataFrame(pvalue)\n",
    "signi1=pval[pval[0]<0.05].index\n",
    "signi1"
   ]
  },
  {
   "cell_type": "code",
   "execution_count": 88,
   "id": "547db836",
   "metadata": {},
   "outputs": [],
   "source": [
    "signi2 = signi[['Kilometers_Driven', 'Mileage', 'Engine', 'Power',\n",
    "       'Location_Coimbatore', 'Location_Delhi', 'Location_Jaipur',\n",
    "       'Location_Kolkata', 'Location_Pune', 'Year_2010', 'Year_2011',\n",
    "       'Year_2012', 'Year_2013', 'Year_2014', 'Year_2015', 'Year_2017',\n",
    "       'Year_2018', 'Fuel_Type_Diesel', 'Transmission_Manual',\n",
    "       'Owner_Type_Old car', 'Seats_5.0', 'Seats_7.0', 'Company_Ford',\n",
    "       'Company_Hyundai', 'Company_ISUZU']]"
   ]
  },
  {
   "cell_type": "code",
   "execution_count": 89,
   "id": "fe4b3100",
   "metadata": {},
   "outputs": [
    {
     "data": {
      "text/html": [
       "<table class=\"simpletable\">\n",
       "<caption>OLS Regression Results</caption>\n",
       "<tr>\n",
       "  <th>Dep. Variable:</th>          <td>Price</td>      <th>  R-squared:         </th> <td>   0.201</td> \n",
       "</tr>\n",
       "<tr>\n",
       "  <th>Model:</th>                   <td>OLS</td>       <th>  Adj. R-squared:    </th> <td>   0.200</td> \n",
       "</tr>\n",
       "<tr>\n",
       "  <th>Method:</th>             <td>Least Squares</td>  <th>  F-statistic:       </th> <td>   226.2</td> \n",
       "</tr>\n",
       "<tr>\n",
       "  <th>Date:</th>             <td>Sat, 02 Jul 2022</td> <th>  Prob (F-statistic):</th>  <td>  0.00</td>  \n",
       "</tr>\n",
       "<tr>\n",
       "  <th>Time:</th>                 <td>17:14:26</td>     <th>  Log-Likelihood:    </th> <td> -74136.</td> \n",
       "</tr>\n",
       "<tr>\n",
       "  <th>No. Observations:</th>      <td> 22500</td>      <th>  AIC:               </th> <td>1.483e+05</td>\n",
       "</tr>\n",
       "<tr>\n",
       "  <th>Df Residuals:</th>          <td> 22474</td>      <th>  BIC:               </th> <td>1.485e+05</td>\n",
       "</tr>\n",
       "<tr>\n",
       "  <th>Df Model:</th>              <td>    25</td>      <th>                     </th>     <td> </td>    \n",
       "</tr>\n",
       "<tr>\n",
       "  <th>Covariance Type:</th>      <td>nonrobust</td>    <th>                     </th>     <td> </td>    \n",
       "</tr>\n",
       "</table>\n",
       "<table class=\"simpletable\">\n",
       "<tr>\n",
       "           <td></td>              <th>coef</th>     <th>std err</th>      <th>t</th>      <th>P>|t|</th>  <th>[0.025</th>    <th>0.975]</th>  \n",
       "</tr>\n",
       "<tr>\n",
       "  <th>const</th>               <td>    7.4012</td> <td>    0.348</td> <td>   21.276</td> <td> 0.000</td> <td>    6.719</td> <td>    8.083</td>\n",
       "</tr>\n",
       "<tr>\n",
       "  <th>Kilometers_Driven</th>   <td>-1.559e-05</td> <td> 2.08e-06</td> <td>   -7.497</td> <td> 0.000</td> <td>-1.97e-05</td> <td>-1.15e-05</td>\n",
       "</tr>\n",
       "<tr>\n",
       "  <th>Mileage</th>             <td>   -0.0395</td> <td>    0.009</td> <td>   -4.318</td> <td> 0.000</td> <td>   -0.057</td> <td>   -0.022</td>\n",
       "</tr>\n",
       "<tr>\n",
       "  <th>Engine</th>              <td>    0.0010</td> <td> 6.86e-05</td> <td>   14.603</td> <td> 0.000</td> <td>    0.001</td> <td>    0.001</td>\n",
       "</tr>\n",
       "<tr>\n",
       "  <th>Power</th>               <td>    0.0062</td> <td>    0.001</td> <td>    8.913</td> <td> 0.000</td> <td>    0.005</td> <td>    0.008</td>\n",
       "</tr>\n",
       "<tr>\n",
       "  <th>Location_Coimbatore</th> <td>    1.0786</td> <td>    0.212</td> <td>    5.095</td> <td> 0.000</td> <td>    0.664</td> <td>    1.494</td>\n",
       "</tr>\n",
       "<tr>\n",
       "  <th>Location_Delhi</th>      <td>    1.5648</td> <td>    0.181</td> <td>    8.630</td> <td> 0.000</td> <td>    1.209</td> <td>    1.920</td>\n",
       "</tr>\n",
       "<tr>\n",
       "  <th>Location_Jaipur</th>     <td>    0.9065</td> <td>    0.169</td> <td>    5.353</td> <td> 0.000</td> <td>    0.575</td> <td>    1.238</td>\n",
       "</tr>\n",
       "<tr>\n",
       "  <th>Location_Kolkata</th>    <td>   -0.6406</td> <td>    0.125</td> <td>   -5.124</td> <td> 0.000</td> <td>   -0.886</td> <td>   -0.396</td>\n",
       "</tr>\n",
       "<tr>\n",
       "  <th>Location_Pune</th>       <td>    1.2274</td> <td>    0.214</td> <td>    5.743</td> <td> 0.000</td> <td>    0.808</td> <td>    1.646</td>\n",
       "</tr>\n",
       "<tr>\n",
       "  <th>Year_2010</th>           <td>    0.3368</td> <td>    0.159</td> <td>    2.116</td> <td> 0.034</td> <td>    0.025</td> <td>    0.649</td>\n",
       "</tr>\n",
       "<tr>\n",
       "  <th>Year_2011</th>           <td>    1.0245</td> <td>    0.161</td> <td>    6.367</td> <td> 0.000</td> <td>    0.709</td> <td>    1.340</td>\n",
       "</tr>\n",
       "<tr>\n",
       "  <th>Year_2012</th>           <td>    0.6206</td> <td>    0.152</td> <td>    4.074</td> <td> 0.000</td> <td>    0.322</td> <td>    0.919</td>\n",
       "</tr>\n",
       "<tr>\n",
       "  <th>Year_2013</th>           <td>    0.2926</td> <td>    0.140</td> <td>    2.088</td> <td> 0.037</td> <td>    0.018</td> <td>    0.567</td>\n",
       "</tr>\n",
       "<tr>\n",
       "  <th>Year_2014</th>           <td>    0.5196</td> <td>    0.159</td> <td>    3.264</td> <td> 0.001</td> <td>    0.208</td> <td>    0.832</td>\n",
       "</tr>\n",
       "<tr>\n",
       "  <th>Year_2015</th>           <td>    0.4165</td> <td>    0.200</td> <td>    2.078</td> <td> 0.038</td> <td>    0.024</td> <td>    0.809</td>\n",
       "</tr>\n",
       "<tr>\n",
       "  <th>Year_2017</th>           <td>    0.9554</td> <td>    0.240</td> <td>    3.986</td> <td> 0.000</td> <td>    0.486</td> <td>    1.425</td>\n",
       "</tr>\n",
       "<tr>\n",
       "  <th>Year_2018</th>           <td>    2.8769</td> <td>    0.702</td> <td>    4.098</td> <td> 0.000</td> <td>    1.501</td> <td>    4.253</td>\n",
       "</tr>\n",
       "<tr>\n",
       "  <th>Fuel_Type_Diesel</th>    <td>    2.7560</td> <td>    0.096</td> <td>   28.663</td> <td> 0.000</td> <td>    2.568</td> <td>    2.945</td>\n",
       "</tr>\n",
       "<tr>\n",
       "  <th>Transmission_Manual</th> <td>   -3.3368</td> <td>    0.117</td> <td>  -28.638</td> <td> 0.000</td> <td>   -3.565</td> <td>   -3.108</td>\n",
       "</tr>\n",
       "<tr>\n",
       "  <th>Owner_Type_Old car</th>  <td>   -1.1015</td> <td>    0.278</td> <td>   -3.969</td> <td> 0.000</td> <td>   -1.645</td> <td>   -0.557</td>\n",
       "</tr>\n",
       "<tr>\n",
       "  <th>Seats_5.0</th>           <td>   -1.4315</td> <td>    0.203</td> <td>   -7.043</td> <td> 0.000</td> <td>   -1.830</td> <td>   -1.033</td>\n",
       "</tr>\n",
       "<tr>\n",
       "  <th>Seats_7.0</th>           <td>    1.6922</td> <td>    0.232</td> <td>    7.287</td> <td> 0.000</td> <td>    1.237</td> <td>    2.147</td>\n",
       "</tr>\n",
       "<tr>\n",
       "  <th>Company_Ford</th>        <td>   -0.5366</td> <td>    0.208</td> <td>   -2.581</td> <td> 0.010</td> <td>   -0.944</td> <td>   -0.129</td>\n",
       "</tr>\n",
       "<tr>\n",
       "  <th>Company_Hyundai</th>     <td>   -0.2681</td> <td>    0.118</td> <td>   -2.281</td> <td> 0.023</td> <td>   -0.498</td> <td>   -0.038</td>\n",
       "</tr>\n",
       "<tr>\n",
       "  <th>Company_ISUZU</th>       <td>   -3.9685</td> <td>    1.541</td> <td>   -2.575</td> <td> 0.010</td> <td>   -6.989</td> <td>   -0.948</td>\n",
       "</tr>\n",
       "</table>\n",
       "<table class=\"simpletable\">\n",
       "<tr>\n",
       "  <th>Omnibus:</th>       <td>14095.711</td> <th>  Durbin-Watson:     </th>  <td>   2.013</td> \n",
       "</tr>\n",
       "<tr>\n",
       "  <th>Prob(Omnibus):</th>  <td> 0.000</td>   <th>  Jarque-Bera (JB):  </th> <td>183242.927</td>\n",
       "</tr>\n",
       "<tr>\n",
       "  <th>Skew:</th>           <td> 2.847</td>   <th>  Prob(JB):          </th>  <td>    0.00</td> \n",
       "</tr>\n",
       "<tr>\n",
       "  <th>Kurtosis:</th>       <td>15.769</td>   <th>  Cond. No.          </th>  <td>1.90e+06</td> \n",
       "</tr>\n",
       "</table><br/><br/>Notes:<br/>[1] Standard Errors assume that the covariance matrix of the errors is correctly specified.<br/>[2] The condition number is large, 1.9e+06. This might indicate that there are<br/>strong multicollinearity or other numerical problems."
      ],
      "text/plain": [
       "<class 'statsmodels.iolib.summary.Summary'>\n",
       "\"\"\"\n",
       "                            OLS Regression Results                            \n",
       "==============================================================================\n",
       "Dep. Variable:                  Price   R-squared:                       0.201\n",
       "Model:                            OLS   Adj. R-squared:                  0.200\n",
       "Method:                 Least Squares   F-statistic:                     226.2\n",
       "Date:                Sat, 02 Jul 2022   Prob (F-statistic):               0.00\n",
       "Time:                        17:14:26   Log-Likelihood:                -74136.\n",
       "No. Observations:               22500   AIC:                         1.483e+05\n",
       "Df Residuals:                   22474   BIC:                         1.485e+05\n",
       "Df Model:                          25                                         \n",
       "Covariance Type:            nonrobust                                         \n",
       "=======================================================================================\n",
       "                          coef    std err          t      P>|t|      [0.025      0.975]\n",
       "---------------------------------------------------------------------------------------\n",
       "const                   7.4012      0.348     21.276      0.000       6.719       8.083\n",
       "Kilometers_Driven   -1.559e-05   2.08e-06     -7.497      0.000   -1.97e-05   -1.15e-05\n",
       "Mileage                -0.0395      0.009     -4.318      0.000      -0.057      -0.022\n",
       "Engine                  0.0010   6.86e-05     14.603      0.000       0.001       0.001\n",
       "Power                   0.0062      0.001      8.913      0.000       0.005       0.008\n",
       "Location_Coimbatore     1.0786      0.212      5.095      0.000       0.664       1.494\n",
       "Location_Delhi          1.5648      0.181      8.630      0.000       1.209       1.920\n",
       "Location_Jaipur         0.9065      0.169      5.353      0.000       0.575       1.238\n",
       "Location_Kolkata       -0.6406      0.125     -5.124      0.000      -0.886      -0.396\n",
       "Location_Pune           1.2274      0.214      5.743      0.000       0.808       1.646\n",
       "Year_2010               0.3368      0.159      2.116      0.034       0.025       0.649\n",
       "Year_2011               1.0245      0.161      6.367      0.000       0.709       1.340\n",
       "Year_2012               0.6206      0.152      4.074      0.000       0.322       0.919\n",
       "Year_2013               0.2926      0.140      2.088      0.037       0.018       0.567\n",
       "Year_2014               0.5196      0.159      3.264      0.001       0.208       0.832\n",
       "Year_2015               0.4165      0.200      2.078      0.038       0.024       0.809\n",
       "Year_2017               0.9554      0.240      3.986      0.000       0.486       1.425\n",
       "Year_2018               2.8769      0.702      4.098      0.000       1.501       4.253\n",
       "Fuel_Type_Diesel        2.7560      0.096     28.663      0.000       2.568       2.945\n",
       "Transmission_Manual    -3.3368      0.117    -28.638      0.000      -3.565      -3.108\n",
       "Owner_Type_Old car     -1.1015      0.278     -3.969      0.000      -1.645      -0.557\n",
       "Seats_5.0              -1.4315      0.203     -7.043      0.000      -1.830      -1.033\n",
       "Seats_7.0               1.6922      0.232      7.287      0.000       1.237       2.147\n",
       "Company_Ford           -0.5366      0.208     -2.581      0.010      -0.944      -0.129\n",
       "Company_Hyundai        -0.2681      0.118     -2.281      0.023      -0.498      -0.038\n",
       "Company_ISUZU          -3.9685      1.541     -2.575      0.010      -6.989      -0.948\n",
       "==============================================================================\n",
       "Omnibus:                    14095.711   Durbin-Watson:                   2.013\n",
       "Prob(Omnibus):                  0.000   Jarque-Bera (JB):           183242.927\n",
       "Skew:                           2.847   Prob(JB):                         0.00\n",
       "Kurtosis:                      15.769   Cond. No.                     1.90e+06\n",
       "==============================================================================\n",
       "\n",
       "Notes:\n",
       "[1] Standard Errors assume that the covariance matrix of the errors is correctly specified.\n",
       "[2] The condition number is large, 1.9e+06. This might indicate that there are\n",
       "strong multicollinearity or other numerical problems.\n",
       "\"\"\""
      ]
     },
     "execution_count": 89,
     "metadata": {},
     "output_type": "execute_result"
    }
   ],
   "source": [
    "y1= newtrain[\"Price\"]\n",
    "x2= sm.add_constant(signi2)\n",
    "rf1 = sm.OLS(y1 ,x2).fit()\n",
    "rf1.summary()"
   ]
  },
  {
   "cell_type": "markdown",
   "id": "6fdd55cb",
   "metadata": {},
   "source": [
    "### Significant columns:\n",
    "\n",
    "['Kilometers_Driven', 'Mileage', 'Engine', 'Power',\n",
    "       'Location_Coimbatore', 'Location_Delhi', 'Location_Jaipur',\n",
    "       'Location_Kolkata', 'Location_Pune', 'Year_2010', 'Year_2011',\n",
    "       'Year_2012', 'Year_2013', 'Year_2014', 'Year_2015', 'Year_2017',\n",
    "       'Year_2018', 'Fuel_Type_Diesel', 'Transmission_Manual',\n",
    "       'Owner_Type_Old car', 'Seats_5.0', 'Seats_7.0', 'Company_Ford',\n",
    "       'Company_Hyundai', 'Company_ISUZU']"
   ]
  },
  {
   "cell_type": "code",
   "execution_count": 94,
   "id": "c83bd8b7",
   "metadata": {},
   "outputs": [],
   "source": [
    "from sklearn.metrics import mean_squared_error"
   ]
  },
  {
   "cell_type": "code",
   "execution_count": 90,
   "id": "78fa7ecf",
   "metadata": {},
   "outputs": [],
   "source": [
    "xtrain ,xtest, ytrain , ytest = train_test_split(signi2,y1,test_size=.3 , random_state=0)"
   ]
  },
  {
   "cell_type": "code",
   "execution_count": 95,
   "id": "9e0050e2",
   "metadata": {},
   "outputs": [
    {
     "name": "stdout",
     "output_type": "stream",
     "text": [
      "0.139620194350066\n",
      "44.93570392998222\n",
      "6.703409873339256\n"
     ]
    }
   ],
   "source": [
    "rf = RandomForestRegressor()\n",
    "model_1 = rf.fit(xtrain,ytrain)\n",
    "pred = rf.predict(xtest)\n",
    "print(rf.score(xtest ,ytest))\n",
    "mse = mean_squared_error(ytest, pred)\n",
    "rmse = mse**.5\n",
    "print(mse)\n",
    "print(rmse)"
   ]
  },
  {
   "cell_type": "code",
   "execution_count": 96,
   "id": "072425ae",
   "metadata": {},
   "outputs": [
    {
     "name": "stdout",
     "output_type": "stream",
     "text": [
      "-0.5920270270175434\n",
      "83.14799425185186\n",
      "9.118552201520362\n"
     ]
    }
   ],
   "source": [
    "dt = DecisionTreeRegressor()\n",
    "model_1 = dt.fit(xtrain,ytrain)\n",
    "pred = dt.predict(xtest)\n",
    "print(dt.score(xtest ,ytest))\n",
    "mse = mean_squared_error(ytest, pred)\n",
    "rmse = mse**.5\n",
    "print(mse)\n",
    "print(rmse)"
   ]
  },
  {
   "cell_type": "code",
   "execution_count": 98,
   "id": "f7065389",
   "metadata": {},
   "outputs": [],
   "source": [
    "import xgboost as xgb\n",
    "import lightgbm as lgb\n",
    "from lightgbm import LGBMRegressor\n",
    "from sklearn.ensemble import VotingRegressor"
   ]
  },
  {
   "cell_type": "code",
   "execution_count": 97,
   "id": "09af7011",
   "metadata": {},
   "outputs": [
    {
     "name": "stdout",
     "output_type": "stream",
     "text": [
      "0.20307973278217373\n",
      "41.62135483462611\n",
      "6.451461449518714\n"
     ]
    }
   ],
   "source": [
    "gbm = GradientBoostingRegressor()\n",
    "model_1 = gbm.fit(xtrain,ytrain)\n",
    "pred = gbm.predict(xtest)\n",
    "print(gbm.score(xtest ,ytest))\n",
    "mse = mean_squared_error(ytest, pred)\n",
    "rmse = mse**.5\n",
    "print(mse)\n",
    "print(rmse)"
   ]
  },
  {
   "cell_type": "code",
   "execution_count": 99,
   "id": "3ee6e32e",
   "metadata": {},
   "outputs": [
    {
     "name": "stdout",
     "output_type": "stream",
     "text": [
      "0.13681538496798662\n",
      "45.082192821452594\n",
      "6.714327428823575\n"
     ]
    }
   ],
   "source": [
    "xgbm = xgb.XGBRegressor()\n",
    "model_1 = xgbm.fit(xtrain,ytrain)\n",
    "pred = xgbm.predict(xtest)\n",
    "print(xgbm.score(xtest ,ytest))\n",
    "mse = mean_squared_error(ytest, pred)\n",
    "rmse = mse**.5\n",
    "print(mse)\n",
    "print(rmse)"
   ]
  },
  {
   "cell_type": "code",
   "execution_count": 100,
   "id": "ae1bbe10",
   "metadata": {},
   "outputs": [
    {
     "name": "stdout",
     "output_type": "stream",
     "text": [
      "0.19524446520278171\n",
      "42.03057325403542\n",
      "6.483099047063481\n"
     ]
    }
   ],
   "source": [
    "lgbm = LGBMRegressor()\n",
    "model_1 = lgbm.fit(xtrain,ytrain)\n",
    "pred = lgbm.predict(xtest)\n",
    "print(lgbm.score(xtest ,ytest))\n",
    "mse = mean_squared_error(ytest, pred)\n",
    "rmse = mse**.5\n",
    "print(mse)\n",
    "print(rmse)"
   ]
  },
  {
   "cell_type": "markdown",
   "id": "7cd285ce",
   "metadata": {},
   "source": [
    "### Voting Regressor"
   ]
  },
  {
   "cell_type": "code",
   "execution_count": 101,
   "id": "ee5cf646",
   "metadata": {},
   "outputs": [],
   "source": [
    "estimator = []\n",
    "estimator.append(('DTC', DecisionTreeRegressor()))\n",
    "estimator.append(('RFC', RandomForestRegressor()))\n",
    "estimator.append(('GBC', GradientBoostingRegressor())) \n",
    "estimator.append(('LGBM', LGBMRegressor())) \n",
    "estimator.append(('XGBM', xgb.XGBRegressor())) "
   ]
  },
  {
   "cell_type": "code",
   "execution_count": 104,
   "id": "728bd6da",
   "metadata": {},
   "outputs": [
    {
     "name": "stdout",
     "output_type": "stream",
     "text": [
      "0.15783035647649823\n",
      "43.98462808132001\n",
      "6.632090777524084\n"
     ]
    }
   ],
   "source": [
    "vot_hard = VotingRegressor(estimators = estimator )\n",
    "model_1 = vot_hard.fit(xtrain,ytrain)\n",
    "pred = vot_hard.predict(xtest)\n",
    "print(vot_hard.score(xtest ,ytest))\n",
    "mse = mean_squared_error(ytest, pred)\n",
    "rmse = mse**.5\n",
    "print(mse)\n",
    "print(rmse)"
   ]
  },
  {
   "cell_type": "markdown",
   "id": "99596fe6",
   "metadata": {},
   "source": [
    "### Taking out the columns which were used in model training for predicting."
   ]
  },
  {
   "cell_type": "code",
   "execution_count": 106,
   "id": "084ed03e",
   "metadata": {},
   "outputs": [],
   "source": [
    "newtest1=newtest[['Kilometers_Driven', 'Mileage', 'Engine', 'Power',\n",
    "       'Location_Coimbatore', 'Location_Delhi', 'Location_Jaipur',\n",
    "       'Location_Kolkata', 'Location_Pune', 'Year_2010', 'Year_2011',\n",
    "       'Year_2012', 'Year_2013', 'Year_2014', 'Year_2015', 'Year_2017',\n",
    "       'Year_2018', 'Fuel_Type_Diesel', 'Transmission_Manual',\n",
    "       'Owner_Type_Old car', 'Seats_5.0', 'Seats_7.0', 'Company_Ford',\n",
    "       'Company_Hyundai', 'Company_ISUZU']]"
   ]
  },
  {
   "cell_type": "code",
   "execution_count": 107,
   "id": "41b05d9e",
   "metadata": {},
   "outputs": [],
   "source": [
    "y1=train[\"Price\"]"
   ]
  },
  {
   "cell_type": "code",
   "execution_count": 108,
   "id": "66396f6a",
   "metadata": {},
   "outputs": [],
   "source": [
    "gbm = GradientBoostingRegressor()\n",
    "model = gbm.fit(signi2,y1)\n",
    "pred = gbm.predict(newtest1)\n"
   ]
  },
  {
   "cell_type": "code",
   "execution_count": 109,
   "id": "e1651866",
   "metadata": {},
   "outputs": [
    {
     "data": {
      "text/html": [
       "<div>\n",
       "<style scoped>\n",
       "    .dataframe tbody tr th:only-of-type {\n",
       "        vertical-align: middle;\n",
       "    }\n",
       "\n",
       "    .dataframe tbody tr th {\n",
       "        vertical-align: top;\n",
       "    }\n",
       "\n",
       "    .dataframe thead th {\n",
       "        text-align: right;\n",
       "    }\n",
       "</style>\n",
       "<table border=\"1\" class=\"dataframe\">\n",
       "  <thead>\n",
       "    <tr style=\"text-align: right;\">\n",
       "      <th></th>\n",
       "      <th>Name</th>\n",
       "      <th>Price</th>\n",
       "    </tr>\n",
       "  </thead>\n",
       "  <tbody>\n",
       "    <tr>\n",
       "      <th>0</th>\n",
       "      <td>Ford Figo Diesel Titanium</td>\n",
       "      <td>15.352180</td>\n",
       "    </tr>\n",
       "    <tr>\n",
       "      <th>1</th>\n",
       "      <td>Maruti SX4 VDI</td>\n",
       "      <td>13.503867</td>\n",
       "    </tr>\n",
       "    <tr>\n",
       "      <th>2</th>\n",
       "      <td>Hyundai Creta 1.6 SX Option</td>\n",
       "      <td>7.521378</td>\n",
       "    </tr>\n",
       "    <tr>\n",
       "      <th>3</th>\n",
       "      <td>Jeep Compass 2.0 Limited 4X4</td>\n",
       "      <td>5.194245</td>\n",
       "    </tr>\n",
       "    <tr>\n",
       "      <th>4</th>\n",
       "      <td>Maruti Swift Dzire VDI</td>\n",
       "      <td>10.193334</td>\n",
       "    </tr>\n",
       "  </tbody>\n",
       "</table>\n",
       "</div>"
      ],
      "text/plain": [
       "                           Name      Price\n",
       "0     Ford Figo Diesel Titanium  15.352180\n",
       "1                Maruti SX4 VDI  13.503867\n",
       "2   Hyundai Creta 1.6 SX Option   7.521378\n",
       "3  Jeep Compass 2.0 Limited 4X4   5.194245\n",
       "4        Maruti Swift Dzire VDI  10.193334"
      ]
     },
     "execution_count": 109,
     "metadata": {},
     "output_type": "execute_result"
    }
   ],
   "source": [
    "testing1 = pd.DataFrame()\n",
    "testing1[\"Name\"] = test[\"Name\"]\n",
    "\n",
    "testing1[\"Price\"] = pred\n",
    "testing1.to_csv(\"GBM_.csv\" , index = False)\n",
    "testing1.head(5)"
   ]
  },
  {
   "cell_type": "markdown",
   "id": "4e8809fc",
   "metadata": {},
   "source": [
    "### Training model using K-Fold cross validation."
   ]
  },
  {
   "cell_type": "code",
   "execution_count": 111,
   "id": "0805863e",
   "metadata": {},
   "outputs": [],
   "source": [
    "n = 10\n",
    "from sklearn.model_selection import KFold\n",
    "k = KFold(n_splits=10, shuffle=True)\n",
    "gbm = GradientBoostingRegressor()\n",
    "pred = pd.DataFrame()\n",
    "for i in range(n):\n",
    "    \n",
    "    folds = next(k.split(signi2))\n",
    "    xtrain = signi2.iloc[folds[0]]\n",
    "    ytrain = y1.iloc[folds[0]]\n",
    "    pred[i] = gbm.fit(xtrain, ytrain).predict(newtest1)\n",
    "solution = pd.DataFrame({\"Price\": pred.mean(axis = 1)})"
   ]
  },
  {
   "cell_type": "code",
   "execution_count": 114,
   "id": "425d1a20",
   "metadata": {},
   "outputs": [
    {
     "data": {
      "text/html": [
       "<div>\n",
       "<style scoped>\n",
       "    .dataframe tbody tr th:only-of-type {\n",
       "        vertical-align: middle;\n",
       "    }\n",
       "\n",
       "    .dataframe tbody tr th {\n",
       "        vertical-align: top;\n",
       "    }\n",
       "\n",
       "    .dataframe thead th {\n",
       "        text-align: right;\n",
       "    }\n",
       "</style>\n",
       "<table border=\"1\" class=\"dataframe\">\n",
       "  <thead>\n",
       "    <tr style=\"text-align: right;\">\n",
       "      <th></th>\n",
       "      <th>Name</th>\n",
       "      <th>Price</th>\n",
       "    </tr>\n",
       "  </thead>\n",
       "  <tbody>\n",
       "    <tr>\n",
       "      <th>0</th>\n",
       "      <td>Ford Figo Diesel Titanium</td>\n",
       "      <td>15.034980</td>\n",
       "    </tr>\n",
       "    <tr>\n",
       "      <th>1</th>\n",
       "      <td>Maruti SX4 VDI</td>\n",
       "      <td>13.068285</td>\n",
       "    </tr>\n",
       "    <tr>\n",
       "      <th>2</th>\n",
       "      <td>Hyundai Creta 1.6 SX Option</td>\n",
       "      <td>7.745625</td>\n",
       "    </tr>\n",
       "    <tr>\n",
       "      <th>3</th>\n",
       "      <td>Jeep Compass 2.0 Limited 4X4</td>\n",
       "      <td>5.099015</td>\n",
       "    </tr>\n",
       "    <tr>\n",
       "      <th>4</th>\n",
       "      <td>Maruti Swift Dzire VDI</td>\n",
       "      <td>10.368798</td>\n",
       "    </tr>\n",
       "  </tbody>\n",
       "</table>\n",
       "</div>"
      ],
      "text/plain": [
       "                           Name      Price\n",
       "0     Ford Figo Diesel Titanium  15.034980\n",
       "1                Maruti SX4 VDI  13.068285\n",
       "2   Hyundai Creta 1.6 SX Option   7.745625\n",
       "3  Jeep Compass 2.0 Limited 4X4   5.099015\n",
       "4        Maruti Swift Dzire VDI  10.368798"
      ]
     },
     "execution_count": 114,
     "metadata": {},
     "output_type": "execute_result"
    }
   ],
   "source": [
    "solution\n",
    "\n",
    "testing2 = pd.DataFrame()\n",
    "testing2[\"Name\"] = test[\"Name\"]\n",
    "\n",
    "testing2[\"Price\"] = solution[\"Price\"]\n",
    "testing2.to_csv(\"GBM_2.csv\" , index = False)\n",
    "testing2.head(5)"
   ]
  },
  {
   "cell_type": "markdown",
   "id": "49ed98c4",
   "metadata": {},
   "source": [
    "### Power Transformer to handle the data skewness."
   ]
  },
  {
   "cell_type": "code",
   "execution_count": 116,
   "id": "4f407256",
   "metadata": {},
   "outputs": [],
   "source": [
    "power = PowerTransformer()\n",
    "t = power.fit_transform(signi2)"
   ]
  },
  {
   "cell_type": "code",
   "execution_count": 117,
   "id": "0b8dd953",
   "metadata": {},
   "outputs": [],
   "source": [
    "t=t\n",
    "y=y1\n",
    "xtrain, xtest, ytrain, ytest = train_test_split(t, y, random_state = 1, test_size = 0.2)\n"
   ]
  },
  {
   "cell_type": "code",
   "execution_count": 118,
   "id": "66f80fde",
   "metadata": {},
   "outputs": [
    {
     "name": "stdout",
     "output_type": "stream",
     "text": [
      "0.21367707226201282\n",
      "39.86243795059101\n",
      "6.313670719208519\n"
     ]
    }
   ],
   "source": [
    "lgbm = LGBMRegressor()\n",
    "model_1 = lgbm.fit(xtrain,ytrain)\n",
    "pred = lgbm.predict(xtest)\n",
    "print(lgbm.score(xtest ,ytest))\n",
    "mse = mean_squared_error(ytest, pred)\n",
    "rmse = mse**.5\n",
    "print(mse)\n",
    "print(rmse)"
   ]
  },
  {
   "cell_type": "code",
   "execution_count": 119,
   "id": "d949c7c8",
   "metadata": {},
   "outputs": [
    {
     "name": "stdout",
     "output_type": "stream",
     "text": [
      "0.15473161682600645\n",
      "42.850662606009024\n",
      "6.546041751013282\n"
     ]
    }
   ],
   "source": [
    "xgbm = xgb.XGBRegressor()\n",
    "model_1 = xgbm.fit(xtrain,ytrain)\n",
    "pred = xgbm.predict(xtest)\n",
    "print(xgbm.score(xtest ,ytest))\n",
    "mse = mean_squared_error(ytest, pred)\n",
    "rmse = mse**.5\n",
    "print(mse)\n",
    "print(rmse)"
   ]
  },
  {
   "cell_type": "code",
   "execution_count": 120,
   "id": "62f2c29b",
   "metadata": {},
   "outputs": [
    {
     "name": "stdout",
     "output_type": "stream",
     "text": [
      "0.13431905964025925\n",
      "43.88547192610667\n",
      "6.624611077346856\n"
     ]
    }
   ],
   "source": [
    "rf = RandomForestRegressor()\n",
    "model_1 = rf.fit(xtrain,ytrain)\n",
    "pred = rf.predict(xtest)\n",
    "print(rf.score(xtest ,ytest))\n",
    "mse = mean_squared_error(ytest, pred)\n",
    "rmse = mse**.5\n",
    "print(mse)\n",
    "print(rmse)"
   ]
  },
  {
   "cell_type": "code",
   "execution_count": 121,
   "id": "5a0638ac",
   "metadata": {},
   "outputs": [
    {
     "name": "stdout",
     "output_type": "stream",
     "text": [
      "0.21758786223980275\n",
      "39.664181461649626\n",
      "6.297950576310489\n"
     ]
    }
   ],
   "source": [
    "gbm = GradientBoostingRegressor()\n",
    "model_1 = gbm.fit(xtrain,ytrain)\n",
    "pred = gbm.predict(xtest)\n",
    "print(gbm.score(xtest ,ytest))\n",
    "mse = mean_squared_error(ytest, pred)\n",
    "rmse = mse**.5\n",
    "print(mse)\n",
    "print(rmse)"
   ]
  },
  {
   "cell_type": "code",
   "execution_count": 126,
   "id": "90395035",
   "metadata": {},
   "outputs": [
    {
     "data": {
      "text/plain": [
       "((22500, 25), (22500,), (52500, 25))"
      ]
     },
     "execution_count": 126,
     "metadata": {},
     "output_type": "execute_result"
    }
   ],
   "source": [
    "t.shape , y1.shape, newtest1.shape"
   ]
  },
  {
   "cell_type": "code",
   "execution_count": 128,
   "id": "43c17b98",
   "metadata": {},
   "outputs": [],
   "source": [
    "gbm = GradientBoostingRegressor()\n",
    "model = gbm.fit(t,y1)\n",
    "pred2 = gbm.predict(newtest1)\n"
   ]
  },
  {
   "cell_type": "code",
   "execution_count": 129,
   "id": "0feda03e",
   "metadata": {},
   "outputs": [
    {
     "data": {
      "text/html": [
       "<div>\n",
       "<style scoped>\n",
       "    .dataframe tbody tr th:only-of-type {\n",
       "        vertical-align: middle;\n",
       "    }\n",
       "\n",
       "    .dataframe tbody tr th {\n",
       "        vertical-align: top;\n",
       "    }\n",
       "\n",
       "    .dataframe thead th {\n",
       "        text-align: right;\n",
       "    }\n",
       "</style>\n",
       "<table border=\"1\" class=\"dataframe\">\n",
       "  <thead>\n",
       "    <tr style=\"text-align: right;\">\n",
       "      <th></th>\n",
       "      <th>Name</th>\n",
       "      <th>Price</th>\n",
       "    </tr>\n",
       "  </thead>\n",
       "  <tbody>\n",
       "    <tr>\n",
       "      <th>0</th>\n",
       "      <td>Ford Figo Diesel Titanium</td>\n",
       "      <td>12.475323</td>\n",
       "    </tr>\n",
       "    <tr>\n",
       "      <th>1</th>\n",
       "      <td>Maruti SX4 VDI</td>\n",
       "      <td>12.475323</td>\n",
       "    </tr>\n",
       "    <tr>\n",
       "      <th>2</th>\n",
       "      <td>Hyundai Creta 1.6 SX Option</td>\n",
       "      <td>9.544587</td>\n",
       "    </tr>\n",
       "    <tr>\n",
       "      <th>3</th>\n",
       "      <td>Jeep Compass 2.0 Limited 4X4</td>\n",
       "      <td>9.230369</td>\n",
       "    </tr>\n",
       "    <tr>\n",
       "      <th>4</th>\n",
       "      <td>Maruti Swift Dzire VDI</td>\n",
       "      <td>9.230369</td>\n",
       "    </tr>\n",
       "  </tbody>\n",
       "</table>\n",
       "</div>"
      ],
      "text/plain": [
       "                           Name      Price\n",
       "0     Ford Figo Diesel Titanium  12.475323\n",
       "1                Maruti SX4 VDI  12.475323\n",
       "2   Hyundai Creta 1.6 SX Option   9.544587\n",
       "3  Jeep Compass 2.0 Limited 4X4   9.230369\n",
       "4        Maruti Swift Dzire VDI   9.230369"
      ]
     },
     "execution_count": 129,
     "metadata": {},
     "output_type": "execute_result"
    }
   ],
   "source": [
    "testing3 = pd.DataFrame()\n",
    "testing3[\"Name\"] = test[\"Name\"]\n",
    "\n",
    "testing3[\"Price\"] = pred2\n",
    "testing3.to_csv(\"GBM_best11.csv\" , index = False)\n",
    "testing3.head(5)"
   ]
  },
  {
   "cell_type": "code",
   "execution_count": null,
   "id": "fec70412",
   "metadata": {},
   "outputs": [],
   "source": []
  },
  {
   "cell_type": "markdown",
   "id": "6205b446",
   "metadata": {},
   "source": []
  },
  {
   "cell_type": "code",
   "execution_count": null,
   "id": "5e780588",
   "metadata": {},
   "outputs": [],
   "source": []
  },
  {
   "cell_type": "code",
   "execution_count": null,
   "id": "2d95807a",
   "metadata": {},
   "outputs": [],
   "source": []
  },
  {
   "cell_type": "code",
   "execution_count": null,
   "id": "4031b6f3",
   "metadata": {},
   "outputs": [],
   "source": []
  }
 ],
 "metadata": {
  "kernelspec": {
   "display_name": "Python 3 (ipykernel)",
   "language": "python",
   "name": "python3"
  },
  "language_info": {
   "codemirror_mode": {
    "name": "ipython",
    "version": 3
   },
   "file_extension": ".py",
   "mimetype": "text/x-python",
   "name": "python",
   "nbconvert_exporter": "python",
   "pygments_lexer": "ipython3",
   "version": "3.9.7"
  }
 },
 "nbformat": 4,
 "nbformat_minor": 5
}
